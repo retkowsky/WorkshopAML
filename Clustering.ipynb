{
 "cells": [
  {
   "cell_type": "code",
   "execution_count": 6,
   "metadata": {},
   "outputs": [
    {
     "name": "stdout",
     "output_type": "stream",
     "text": [
      "Cluster: 2\n"
     ]
    }
   ],
   "source": [
    "endpoint = 'http://52.148.242.117:80/api/v1/service/clustering-real-time-inference/score' #Replace with your endpoint\n",
    "key = 'TKMpUnztRbA8vETxu8PvQdHwCBuoXSmc' #Replace with your key\n",
    "\n",
    "\n",
    "import urllib.request\n",
    "import json\n",
    "import os\n",
    "\n",
    "data = {\n",
    "    \"Inputs\": {\n",
    "        \"WebServiceInput0\":\n",
    "        [\n",
    "            {\n",
    "                    'CulmenLength': 49.1,\n",
    "                    'CulmenDepth': 8.8,\n",
    "                    'FlipperLength': 1220,\n",
    "                    'BodyMass': 5150,\n",
    "            },\n",
    "        ],\n",
    "    },\n",
    "    \"GlobalParameters\":  {\n",
    "    }\n",
    "}\n",
    "\n",
    "body = str.encode(json.dumps(data))\n",
    "\n",
    "\n",
    "headers = {'Content-Type':'application/json', 'Authorization':('Bearer '+ key)}\n",
    "\n",
    "req = urllib.request.Request(endpoint, body, headers)\n",
    "\n",
    "try:\n",
    "    response = urllib.request.urlopen(req)\n",
    "    result = response.read()\n",
    "    json_result = json.loads(result)\n",
    "    output = json_result[\"Results\"][\"WebServiceOutput0\"][0]\n",
    "    print('Cluster: {}'.format(output[\"Assignments\"]))\n",
    "\n",
    "except urllib.error.HTTPError as error:\n",
    "    print(\"The request failed with status code: \" + str(error.code))\n",
    "\n",
    "    # Print the headers to help debug\n",
    "    print(error.info())\n",
    "    print(json.loads(error.read().decode(\"utf8\", 'ignore')))"
   ]
  },
  {
   "cell_type": "code",
   "execution_count": null,
   "metadata": {},
   "outputs": [],
   "source": []
  },
  {
   "cell_type": "code",
   "execution_count": null,
   "metadata": {},
   "outputs": [],
   "source": []
  }
 ],
 "metadata": {
  "kernelspec": {
   "display_name": "Python 3.6 - AzureML",
   "language": "python",
   "name": "python3-azureml"
  },
  "language_info": {
   "codemirror_mode": {
    "name": "ipython",
    "version": 3
   },
   "file_extension": ".py",
   "mimetype": "text/x-python",
   "name": "python",
   "nbconvert_exporter": "python",
   "pygments_lexer": "ipython3",
   "version": "3.6.9"
  }
 },
 "nbformat": 4,
 "nbformat_minor": 4
}
