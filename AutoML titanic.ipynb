{
 "cells": [
  {
   "cell_type": "markdown",
   "metadata": {},
   "source": [
    "# Notebook TITANIC AutoML avec Azure ML\n"
   ]
  },
  {
   "cell_type": "markdown",
   "metadata": {},
   "source": [
    "Notebook Python Azure ML pour la modélisation automatique (AUTOML) de la survie des passagers du Titanic.\n",
    "<br><br>\n",
    "https://www.kaggle.com/c/titanic\n",
    "<br><br>\n",
    "Données : \n",
    "https://www.kaggle.com/c/titanic/data"
   ]
  },
  {
   "cell_type": "markdown",
   "metadata": {},
   "source": [
    "<img src=\"https://kwmp.ca/wp-content/uploads/2018/04/titanic-the-musical-1024x538.jpg\">"
   ]
  },
  {
   "cell_type": "markdown",
   "metadata": {},
   "source": [
    " ## Description des variables :\n",
    " - PassengerId: and id given to each traveler on the boat\n",
    " - Pclass: the passenger class. It has three possible values: 1,2,3 (first, second and third class)\n",
    " - The Name of the passeger\n",
    " - The Sex\n",
    " - The Age\n",
    " - SibSp: number of siblings and spouses traveling with the passenger\n",
    " - Parch: number of parents and children traveling with the passenger\n",
    " - The ticket number\n",
    " - The ticket Fare\n",
    " - The cabin number\n",
    " - The embarkation. This describe three possible areas of the Titanic from which the people embark. Three possible values S,C,Q\n",
    "\n",
    "> https://www.kaggle.com/c/titanic"
   ]
  },
  {
   "cell_type": "markdown",
   "metadata": {},
   "source": [
    "### 0. Paramétrage"
   ]
  },
  {
   "cell_type": "code",
   "execution_count": 70,
   "metadata": {},
   "outputs": [
    {
     "data": {
      "text/plain": [
       "{'Platforme': 'Linux',\n",
       " 'Platforme-release': '4.15.0-1092-azure',\n",
       " 'Platforme-version': '#102~16.04.1-Ubuntu SMP Tue Jul 14 20:28:23 UTC 2020',\n",
       " 'Architecture': 'x86_64',\n",
       " 'Hostname': 'instancenotebooksjup',\n",
       " 'IP-address': '127.0.0.1',\n",
       " 'MAC-address': '00:0d:3a:23:7a:f6',\n",
       " 'Processeur': 'x86_64',\n",
       " 'RAM': '14 Go'}"
      ]
     },
     "execution_count": 70,
     "metadata": {},
     "output_type": "execute_result"
    }
   ],
   "source": [
    "import platform,socket,re,uuid,json,psutil,logging\n",
    "\n",
    "def getSystemInfo():\n",
    "    try:\n",
    "        info={}\n",
    "        info['Platforme']=platform.system()\n",
    "        info['Platforme-release']=platform.release()\n",
    "        info['Platforme-version']=platform.version()\n",
    "        info['Architecture']=platform.machine()\n",
    "        info['Hostname']=socket.gethostname()\n",
    "        info['IP-address']=socket.gethostbyname(socket.gethostname())\n",
    "        info['MAC-address']=':'.join(re.findall('..', '%012x' % uuid.getnode()))\n",
    "        info['Processeur']=platform.processor()\n",
    "        info['RAM']=str(round(psutil.virtual_memory().total / (1024.0 **3)))+\" Go\"\n",
    "        return json.dumps(info)\n",
    "    except Exception as e:\n",
    "        logging.exception(e)\n",
    "\n",
    "json.loads(getSystemInfo())"
   ]
  },
  {
   "cell_type": "code",
   "execution_count": 71,
   "metadata": {},
   "outputs": [
    {
     "data": {
      "text/plain": [
       "'3.6.9 |Anaconda, Inc.| (default, Jul 30 2019, 19:07:31) \\n[GCC 7.3.0]'"
      ]
     },
     "execution_count": 71,
     "metadata": {},
     "output_type": "execute_result"
    }
   ],
   "source": [
    "import sys\n",
    "sys.version"
   ]
  },
  {
   "cell_type": "code",
   "execution_count": 72,
   "metadata": {},
   "outputs": [
    {
     "name": "stdout",
     "output_type": "stream",
     "text": [
      "2020-08-27 13:07:52.021227\n"
     ]
    }
   ],
   "source": [
    "import datetime\n",
    "now = datetime.datetime.now()\n",
    "print(now)"
   ]
  },
  {
   "cell_type": "code",
   "execution_count": 73,
   "metadata": {},
   "outputs": [],
   "source": [
    "#!pip install --upgrade azureml-sdk\n",
    "#!pip install --upgrade azureml-sdk[automl,notebooks,explain,contrib,services,tensorboard]"
   ]
  },
  {
   "cell_type": "code",
   "execution_count": 74,
   "metadata": {},
   "outputs": [],
   "source": [
    "#!pip install flask==1.0.3"
   ]
  },
  {
   "cell_type": "code",
   "execution_count": 75,
   "metadata": {},
   "outputs": [
    {
     "name": "stdout",
     "output_type": "stream",
     "text": [
      "Version Azure ML : 1.12.0\n"
     ]
    }
   ],
   "source": [
    "import azureml.core\n",
    "print(\"Version Azure ML :\", azureml.core.VERSION)"
   ]
  },
  {
   "cell_type": "code",
   "execution_count": 76,
   "metadata": {},
   "outputs": [],
   "source": [
    "import os\n",
    "\n",
    "subscription_id = os.environ.get(\"SUBSCRIPTION_ID\", \"70b8f39e-8863-49f7-b6ba-34a80799550c\")\n",
    "resource_group = os.environ.get(\"RESOURCE_GROUP\", \"workshop-rg\")\n",
    "workspace_name = os.environ.get(\"WORKSPACE_NAME\", \"workshop\")"
   ]
  },
  {
   "cell_type": "code",
   "execution_count": 77,
   "metadata": {},
   "outputs": [
    {
     "name": "stdout",
     "output_type": "stream",
     "text": [
      "Le workspace Azure ML service a été trouvé : OK\n"
     ]
    }
   ],
   "source": [
    "from azureml.core import Workspace\n",
    "\n",
    "try:\n",
    "   ws = Workspace(subscription_id = subscription_id, resource_group = resource_group, workspace_name = workspace_name)\n",
    "   ws.write_config()\n",
    "   print(\"Le workspace Azure ML service a été trouvé : OK\")\n",
    "except:\n",
    "   print(\"Le workspace Azure ML service n'a pas été trouvé\")"
   ]
  },
  {
   "cell_type": "code",
   "execution_count": 78,
   "metadata": {},
   "outputs": [],
   "source": [
    "import pandas as pd\n",
    "import numpy as np\n",
    "import pandas.io.sql as pd_sql\n",
    "\n",
    "import azureml.core\n",
    "from azureml.core.experiment import Experiment\n",
    "from azureml.core.workspace import Workspace\n",
    "from azureml.train.automl import AutoMLConfig\n",
    "from azureml.train.automl.run import AutoMLRun\n",
    "\n",
    "import logging\n",
    "import os\n",
    "import random"
   ]
  },
  {
   "cell_type": "markdown",
   "metadata": {},
   "source": [
    "## 1. Chargement des données"
   ]
  },
  {
   "cell_type": "code",
   "execution_count": 79,
   "metadata": {},
   "outputs": [],
   "source": [
    "import azureml.dataprep as dprep"
   ]
  },
  {
   "cell_type": "code",
   "execution_count": 80,
   "metadata": {},
   "outputs": [
    {
     "name": "stdout",
     "output_type": "stream",
     "text": [
      "Retrieving data:\n",
      "https://raw.githubusercontent.com/retkowsky/titanic/master/train.csv\n"
     ]
    },
    {
     "data": {
      "text/html": [
       "<div>\n",
       "<style scoped>\n",
       "    .dataframe tbody tr th:only-of-type {\n",
       "        vertical-align: middle;\n",
       "    }\n",
       "\n",
       "    .dataframe tbody tr th {\n",
       "        vertical-align: top;\n",
       "    }\n",
       "\n",
       "    .dataframe thead th {\n",
       "        text-align: right;\n",
       "    }\n",
       "</style>\n",
       "<table border=\"1\" class=\"dataframe\">\n",
       "  <thead>\n",
       "    <tr style=\"text-align: right;\">\n",
       "      <th></th>\n",
       "      <th>PassengerId</th>\n",
       "      <th>Survived</th>\n",
       "      <th>Pclass</th>\n",
       "      <th>Name</th>\n",
       "      <th>Sex</th>\n",
       "      <th>Age</th>\n",
       "      <th>SibSp</th>\n",
       "      <th>Parch</th>\n",
       "      <th>Ticket</th>\n",
       "      <th>Fare</th>\n",
       "      <th>Cabin</th>\n",
       "      <th>Embarked</th>\n",
       "    </tr>\n",
       "  </thead>\n",
       "  <tbody>\n",
       "    <tr>\n",
       "      <th>0</th>\n",
       "      <td>1</td>\n",
       "      <td>0</td>\n",
       "      <td>3</td>\n",
       "      <td>Braund, Mr. Owen Harris</td>\n",
       "      <td>male</td>\n",
       "      <td>22</td>\n",
       "      <td>1</td>\n",
       "      <td>0</td>\n",
       "      <td>A/5 21171</td>\n",
       "      <td>7.25</td>\n",
       "      <td>None</td>\n",
       "      <td>S</td>\n",
       "    </tr>\n",
       "    <tr>\n",
       "      <th>1</th>\n",
       "      <td>2</td>\n",
       "      <td>1</td>\n",
       "      <td>1</td>\n",
       "      <td>Cumings, Mrs. John Bradley (Florence Briggs Thayer)</td>\n",
       "      <td>female</td>\n",
       "      <td>38</td>\n",
       "      <td>1</td>\n",
       "      <td>0</td>\n",
       "      <td>PC 17599</td>\n",
       "      <td>71.2833</td>\n",
       "      <td>C85</td>\n",
       "      <td>C</td>\n",
       "    </tr>\n",
       "    <tr>\n",
       "      <th>2</th>\n",
       "      <td>3</td>\n",
       "      <td>1</td>\n",
       "      <td>3</td>\n",
       "      <td>Heikkinen, Miss. Laina</td>\n",
       "      <td>female</td>\n",
       "      <td>26</td>\n",
       "      <td>0</td>\n",
       "      <td>0</td>\n",
       "      <td>STON/O2. 3101282</td>\n",
       "      <td>7.925</td>\n",
       "      <td>None</td>\n",
       "      <td>S</td>\n",
       "    </tr>\n",
       "    <tr>\n",
       "      <th>3</th>\n",
       "      <td>4</td>\n",
       "      <td>1</td>\n",
       "      <td>1</td>\n",
       "      <td>Futrelle, Mrs. Jacques Heath (Lily May Peel)</td>\n",
       "      <td>female</td>\n",
       "      <td>35</td>\n",
       "      <td>1</td>\n",
       "      <td>0</td>\n",
       "      <td>113803</td>\n",
       "      <td>53.1</td>\n",
       "      <td>C123</td>\n",
       "      <td>S</td>\n",
       "    </tr>\n",
       "    <tr>\n",
       "      <th>4</th>\n",
       "      <td>5</td>\n",
       "      <td>0</td>\n",
       "      <td>3</td>\n",
       "      <td>Allen, Mr. William Henry</td>\n",
       "      <td>male</td>\n",
       "      <td>35</td>\n",
       "      <td>0</td>\n",
       "      <td>0</td>\n",
       "      <td>373450</td>\n",
       "      <td>8.05</td>\n",
       "      <td>None</td>\n",
       "      <td>S</td>\n",
       "    </tr>\n",
       "  </tbody>\n",
       "</table>\n",
       "</div>"
      ],
      "text/plain": [
       "  PassengerId Survived Pclass  \\\n",
       "0  1           0        3       \n",
       "1  2           1        1       \n",
       "2  3           1        3       \n",
       "3  4           1        1       \n",
       "4  5           0        3       \n",
       "\n",
       "                                                  Name     Sex Age SibSp  \\\n",
       "0  Braund, Mr. Owen Harris                              male    22  1      \n",
       "1  Cumings, Mrs. John Bradley (Florence Briggs Thayer)  female  38  1      \n",
       "2  Heikkinen, Miss. Laina                               female  26  0      \n",
       "3  Futrelle, Mrs. Jacques Heath (Lily May Peel)         female  35  1      \n",
       "4  Allen, Mr. William Henry                             male    35  0      \n",
       "\n",
       "  Parch            Ticket     Fare Cabin Embarked  \n",
       "0  0     A/5 21171         7.25     None  S        \n",
       "1  0     PC 17599          71.2833  C85   C        \n",
       "2  0     STON/O2. 3101282  7.925    None  S        \n",
       "3  0     113803            53.1     C123  S        \n",
       "4  0     373450            8.05     None  S        "
      ]
     },
     "metadata": {},
     "output_type": "display_data"
    }
   ],
   "source": [
    "pd.set_option('display.max_columns', None)\n",
    "\n",
    "titanic_path = \"https://raw.githubusercontent.com/retkowsky/titanic/master/train.csv\"\n",
    "\n",
    "print(\"Retrieving data:\")\n",
    "print(titanic_path)\n",
    "\n",
    "titanic_df = dprep.read_csv(path=titanic_path, header=dprep.PromoteHeadersMode.GROUPED)\n",
    "\n",
    "display(titanic_df.head(5))"
   ]
  },
  {
   "cell_type": "code",
   "execution_count": 81,
   "metadata": {},
   "outputs": [
    {
     "data": {
      "text/html": [
       "<div>\n",
       "<style scoped>\n",
       "    .dataframe tbody tr th:only-of-type {\n",
       "        vertical-align: middle;\n",
       "    }\n",
       "\n",
       "    .dataframe tbody tr th {\n",
       "        vertical-align: top;\n",
       "    }\n",
       "\n",
       "    .dataframe thead th {\n",
       "        text-align: right;\n",
       "    }\n",
       "</style>\n",
       "<table border=\"1\" class=\"dataframe\">\n",
       "  <thead>\n",
       "    <tr style=\"text-align: right;\">\n",
       "      <th></th>\n",
       "      <th>PassengerId</th>\n",
       "      <th>Survived</th>\n",
       "      <th>Pclass</th>\n",
       "      <th>Sex</th>\n",
       "      <th>Age</th>\n",
       "      <th>SibSp</th>\n",
       "      <th>Fare</th>\n",
       "      <th>Embarked</th>\n",
       "    </tr>\n",
       "  </thead>\n",
       "  <tbody>\n",
       "    <tr>\n",
       "      <th>0</th>\n",
       "      <td>1</td>\n",
       "      <td>0</td>\n",
       "      <td>3</td>\n",
       "      <td>male</td>\n",
       "      <td>22</td>\n",
       "      <td>1</td>\n",
       "      <td>7.25</td>\n",
       "      <td>S</td>\n",
       "    </tr>\n",
       "    <tr>\n",
       "      <th>1</th>\n",
       "      <td>2</td>\n",
       "      <td>1</td>\n",
       "      <td>1</td>\n",
       "      <td>female</td>\n",
       "      <td>38</td>\n",
       "      <td>1</td>\n",
       "      <td>71.2833</td>\n",
       "      <td>C</td>\n",
       "    </tr>\n",
       "    <tr>\n",
       "      <th>2</th>\n",
       "      <td>3</td>\n",
       "      <td>1</td>\n",
       "      <td>3</td>\n",
       "      <td>female</td>\n",
       "      <td>26</td>\n",
       "      <td>0</td>\n",
       "      <td>7.925</td>\n",
       "      <td>S</td>\n",
       "    </tr>\n",
       "    <tr>\n",
       "      <th>3</th>\n",
       "      <td>4</td>\n",
       "      <td>1</td>\n",
       "      <td>1</td>\n",
       "      <td>female</td>\n",
       "      <td>35</td>\n",
       "      <td>1</td>\n",
       "      <td>53.1</td>\n",
       "      <td>S</td>\n",
       "    </tr>\n",
       "    <tr>\n",
       "      <th>4</th>\n",
       "      <td>5</td>\n",
       "      <td>0</td>\n",
       "      <td>3</td>\n",
       "      <td>male</td>\n",
       "      <td>35</td>\n",
       "      <td>0</td>\n",
       "      <td>8.05</td>\n",
       "      <td>S</td>\n",
       "    </tr>\n",
       "  </tbody>\n",
       "</table>\n",
       "</div>"
      ],
      "text/plain": [
       "  PassengerId Survived Pclass     Sex Age SibSp     Fare Embarked\n",
       "0  1           0        3      male    22  1     7.25     S      \n",
       "1  2           1        1      female  38  1     71.2833  C      \n",
       "2  3           1        3      female  26  0     7.925    S      \n",
       "3  4           1        1      female  35  1     53.1     S      \n",
       "4  5           0        3      male    35  0     8.05     S      "
      ]
     },
     "execution_count": 81,
     "metadata": {},
     "output_type": "execute_result"
    }
   ],
   "source": [
    "all_columns = dprep.ColumnSelector(term=\".*\", use_regex=True)\n",
    "\n",
    "drop_if_all_null = [all_columns, dprep.ColumnRelationship(dprep.ColumnRelationship.ALL)]\n",
    "\n",
    "useful_columns = [\n",
    "    \"PassengerId\", \"Survived\", \"Pclass\", \"Sex\", \"Age\", \"SibSp\",\n",
    "    \"Fare\", \"Embarked\"\n",
    "]\n",
    "\n",
    "tmp_df = (titanic_df\n",
    "    .replace_na(columns=all_columns)\n",
    "    .drop_nulls(*drop_if_all_null)\n",
    "    .rename_columns(column_pairs={\n",
    "        \"PassengerId\": \"PassengerId\",\n",
    "        \"Survived\": \"Survived\",\n",
    "        \"Pclass\": \"Pclass\",\n",
    "        \"Sex\": \"Sex\",\n",
    "        \"Age\": \"Age\",\n",
    "        \"SibSp\": \"SibSp\",\n",
    "        \"Fare\": \"Fare\",\n",
    "        \"Embarked\": \"Embarked\",\n",
    "     })\n",
    "    .keep_columns(columns=useful_columns))\n",
    "tmp_df.head(5)"
   ]
  },
  {
   "cell_type": "code",
   "execution_count": 82,
   "metadata": {},
   "outputs": [],
   "source": [
    "decimal_type = dprep.TypeConverter(data_type=dprep.FieldType.DECIMAL)\n",
    "profile = tmp_df.set_column_types(type_conversions={\n",
    "    \"Age\": decimal_type,\n",
    "    \"Fare\": decimal_type\n",
    "}).get_profile()"
   ]
  },
  {
   "cell_type": "code",
   "execution_count": 83,
   "metadata": {},
   "outputs": [
    {
     "data": {
      "text/html": [
       "<table border=\"1\" class=\"dataframe\">\n",
       "  <thead>\n",
       "    <tr style=\"text-align: right;\">\n",
       "      <th></th>\n",
       "      <th>Type</th>\n",
       "      <th>Min</th>\n",
       "      <th>Max</th>\n",
       "      <th>Count</th>\n",
       "      <th>Missing Count</th>\n",
       "      <th>Not Missing Count</th>\n",
       "      <th>Percent Missing</th>\n",
       "      <th>Error Count</th>\n",
       "      <th>Empty Count</th>\n",
       "      <th>Unique Values</th>\n",
       "      <th>0.1% Quantile (est.)</th>\n",
       "      <th>1% Quantile (est.)</th>\n",
       "      <th>5% Quantile (est.)</th>\n",
       "      <th>25% Quantile (est.)</th>\n",
       "      <th>50% Quantile (est.)</th>\n",
       "      <th>75% Quantile (est.)</th>\n",
       "      <th>95% Quantile (est.)</th>\n",
       "      <th>99% Quantile (est.)</th>\n",
       "      <th>99.9% Quantile (est.)</th>\n",
       "      <th>Mean</th>\n",
       "      <th>Standard Deviation</th>\n",
       "      <th>Variance</th>\n",
       "      <th>Skewness</th>\n",
       "      <th>Kurtosis</th>\n",
       "      <th>WhiskerTop</th>\n",
       "      <th>WhiskerBottom</th>\n",
       "    </tr>\n",
       "  </thead>\n",
       "  <tbody>\n",
       "    <tr>\n",
       "      <th>PassengerId</th>\n",
       "      <td>FieldType.STRING</td>\n",
       "      <td>1</td>\n",
       "      <td>99</td>\n",
       "      <td>891.00</td>\n",
       "      <td>0.00</td>\n",
       "      <td>891.00</td>\n",
       "      <td>0.00</td>\n",
       "      <td>0.00</td>\n",
       "      <td>0.00</td>\n",
       "      <td>891</td>\n",
       "      <td></td>\n",
       "      <td></td>\n",
       "      <td></td>\n",
       "      <td></td>\n",
       "      <td></td>\n",
       "      <td></td>\n",
       "      <td></td>\n",
       "      <td></td>\n",
       "      <td></td>\n",
       "      <td></td>\n",
       "      <td></td>\n",
       "      <td></td>\n",
       "      <td></td>\n",
       "      <td></td>\n",
       "      <td></td>\n",
       "      <td></td>\n",
       "    </tr>\n",
       "    <tr>\n",
       "      <th>Survived</th>\n",
       "      <td>FieldType.STRING</td>\n",
       "      <td>0</td>\n",
       "      <td>1</td>\n",
       "      <td>891.00</td>\n",
       "      <td>0.00</td>\n",
       "      <td>891.00</td>\n",
       "      <td>0.00</td>\n",
       "      <td>0.00</td>\n",
       "      <td>0.00</td>\n",
       "      <td>2</td>\n",
       "      <td></td>\n",
       "      <td></td>\n",
       "      <td></td>\n",
       "      <td></td>\n",
       "      <td></td>\n",
       "      <td></td>\n",
       "      <td></td>\n",
       "      <td></td>\n",
       "      <td></td>\n",
       "      <td></td>\n",
       "      <td></td>\n",
       "      <td></td>\n",
       "      <td></td>\n",
       "      <td></td>\n",
       "      <td></td>\n",
       "      <td></td>\n",
       "    </tr>\n",
       "    <tr>\n",
       "      <th>Pclass</th>\n",
       "      <td>FieldType.STRING</td>\n",
       "      <td>1</td>\n",
       "      <td>3</td>\n",
       "      <td>891.00</td>\n",
       "      <td>0.00</td>\n",
       "      <td>891.00</td>\n",
       "      <td>0.00</td>\n",
       "      <td>0.00</td>\n",
       "      <td>0.00</td>\n",
       "      <td>3</td>\n",
       "      <td></td>\n",
       "      <td></td>\n",
       "      <td></td>\n",
       "      <td></td>\n",
       "      <td></td>\n",
       "      <td></td>\n",
       "      <td></td>\n",
       "      <td></td>\n",
       "      <td></td>\n",
       "      <td></td>\n",
       "      <td></td>\n",
       "      <td></td>\n",
       "      <td></td>\n",
       "      <td></td>\n",
       "      <td></td>\n",
       "      <td></td>\n",
       "    </tr>\n",
       "    <tr>\n",
       "      <th>Sex</th>\n",
       "      <td>FieldType.STRING</td>\n",
       "      <td>female</td>\n",
       "      <td>male</td>\n",
       "      <td>891.00</td>\n",
       "      <td>0.00</td>\n",
       "      <td>891.00</td>\n",
       "      <td>0.00</td>\n",
       "      <td>0.00</td>\n",
       "      <td>0.00</td>\n",
       "      <td>2</td>\n",
       "      <td></td>\n",
       "      <td></td>\n",
       "      <td></td>\n",
       "      <td></td>\n",
       "      <td></td>\n",
       "      <td></td>\n",
       "      <td></td>\n",
       "      <td></td>\n",
       "      <td></td>\n",
       "      <td></td>\n",
       "      <td></td>\n",
       "      <td></td>\n",
       "      <td></td>\n",
       "      <td></td>\n",
       "      <td></td>\n",
       "      <td></td>\n",
       "    </tr>\n",
       "    <tr>\n",
       "      <th>Age</th>\n",
       "      <td>FieldType.DECIMAL</td>\n",
       "      <td>0.42</td>\n",
       "      <td>80.00</td>\n",
       "      <td>891.00</td>\n",
       "      <td>177.00</td>\n",
       "      <td>714.00</td>\n",
       "      <td>0.20</td>\n",
       "      <td>0.00</td>\n",
       "      <td>0.00</td>\n",
       "      <td>89</td>\n",
       "      <td>0.47</td>\n",
       "      <td>13.51</td>\n",
       "      <td>12.67</td>\n",
       "      <td>20.28</td>\n",
       "      <td>28.00</td>\n",
       "      <td>38.20</td>\n",
       "      <td>56.31</td>\n",
       "      <td>67.44</td>\n",
       "      <td>78.72</td>\n",
       "      <td>29.70</td>\n",
       "      <td>14.53</td>\n",
       "      <td>211.02</td>\n",
       "      <td>0.39</td>\n",
       "      <td>0.16</td>\n",
       "      <td>65.00</td>\n",
       "      <td>0.42</td>\n",
       "    </tr>\n",
       "    <tr>\n",
       "      <th>SibSp</th>\n",
       "      <td>FieldType.STRING</td>\n",
       "      <td>0</td>\n",
       "      <td>8</td>\n",
       "      <td>891.00</td>\n",
       "      <td>0.00</td>\n",
       "      <td>891.00</td>\n",
       "      <td>0.00</td>\n",
       "      <td>0.00</td>\n",
       "      <td>0.00</td>\n",
       "      <td>7</td>\n",
       "      <td></td>\n",
       "      <td></td>\n",
       "      <td></td>\n",
       "      <td></td>\n",
       "      <td></td>\n",
       "      <td></td>\n",
       "      <td></td>\n",
       "      <td></td>\n",
       "      <td></td>\n",
       "      <td></td>\n",
       "      <td></td>\n",
       "      <td></td>\n",
       "      <td></td>\n",
       "      <td></td>\n",
       "      <td></td>\n",
       "      <td></td>\n",
       "    </tr>\n",
       "    <tr>\n",
       "      <th>Fare</th>\n",
       "      <td>FieldType.DECIMAL</td>\n",
       "      <td>0.00</td>\n",
       "      <td>512.33</td>\n",
       "      <td>891.00</td>\n",
       "      <td>0.00</td>\n",
       "      <td>891.00</td>\n",
       "      <td>0.00</td>\n",
       "      <td>0.00</td>\n",
       "      <td>0.00</td>\n",
       "      <td>248</td>\n",
       "      <td>0.00</td>\n",
       "      <td>7.54</td>\n",
       "      <td>7.52</td>\n",
       "      <td>7.91</td>\n",
       "      <td>14.46</td>\n",
       "      <td>31.07</td>\n",
       "      <td>112.45</td>\n",
       "      <td>255.39</td>\n",
       "      <td>512.33</td>\n",
       "      <td>32.20</td>\n",
       "      <td>49.69</td>\n",
       "      <td>2469.44</td>\n",
       "      <td>4.77</td>\n",
       "      <td>33.12</td>\n",
       "      <td>63.34</td>\n",
       "      <td>0.00</td>\n",
       "    </tr>\n",
       "    <tr>\n",
       "      <th>Embarked</th>\n",
       "      <td>FieldType.STRING</td>\n",
       "      <td>C</td>\n",
       "      <td>S</td>\n",
       "      <td>891.00</td>\n",
       "      <td>2.00</td>\n",
       "      <td>889.00</td>\n",
       "      <td>0.00</td>\n",
       "      <td>0.00</td>\n",
       "      <td>0.00</td>\n",
       "      <td>4</td>\n",
       "      <td></td>\n",
       "      <td></td>\n",
       "      <td></td>\n",
       "      <td></td>\n",
       "      <td></td>\n",
       "      <td></td>\n",
       "      <td></td>\n",
       "      <td></td>\n",
       "      <td></td>\n",
       "      <td></td>\n",
       "      <td></td>\n",
       "      <td></td>\n",
       "      <td></td>\n",
       "      <td></td>\n",
       "      <td></td>\n",
       "      <td></td>\n",
       "    </tr>\n",
       "  </tbody>\n",
       "</table>"
      ],
      "text/plain": [
       "ColumnProfile:\n",
       "    column_name: PassengerId\n",
       "    type: FieldType.STRING\n",
       "\n",
       "    min: 1\n",
       "    max: 99\n",
       "    count: 891.0\n",
       "    missing_count: 0.0\n",
       "    not_missing_count: 891.0\n",
       "    percent_missing: 0.0\n",
       "    error_count: 0.0\n",
       "    empty_count: 0.0\n",
       "    unique_values: 891\n",
       "\n",
       "\n",
       "ColumnProfile:\n",
       "    column_name: Survived\n",
       "    type: FieldType.STRING\n",
       "\n",
       "    min: 0\n",
       "    max: 1\n",
       "    count: 891.0\n",
       "    missing_count: 0.0\n",
       "    not_missing_count: 891.0\n",
       "    percent_missing: 0.0\n",
       "    error_count: 0.0\n",
       "    empty_count: 0.0\n",
       "    unique_values: 2\n",
       "\n",
       "\n",
       "ColumnProfile:\n",
       "    column_name: Pclass\n",
       "    type: FieldType.STRING\n",
       "\n",
       "    min: 1\n",
       "    max: 3\n",
       "    count: 891.0\n",
       "    missing_count: 0.0\n",
       "    not_missing_count: 891.0\n",
       "    percent_missing: 0.0\n",
       "    error_count: 0.0\n",
       "    empty_count: 0.0\n",
       "    unique_values: 3\n",
       "\n",
       "\n",
       "ColumnProfile:\n",
       "    column_name: Sex\n",
       "    type: FieldType.STRING\n",
       "\n",
       "    min: female\n",
       "    max: male\n",
       "    count: 891.0\n",
       "    missing_count: 0.0\n",
       "    not_missing_count: 891.0\n",
       "    percent_missing: 0.0\n",
       "    error_count: 0.0\n",
       "    empty_count: 0.0\n",
       "    unique_values: 2\n",
       "\n",
       "\n",
       "ColumnProfile:\n",
       "    column_name: Age\n",
       "    type: FieldType.DECIMAL\n",
       "\n",
       "    min: 0.42\n",
       "    max: 80.0\n",
       "    count: 891.0\n",
       "    missing_count: 177.0\n",
       "    not_missing_count: 714.0\n",
       "    percent_missing: 0.19865319865319866\n",
       "    error_count: 0.0\n",
       "    empty_count: 0.0\n",
       "    unique_values: 89\n",
       "\n",
       "\n",
       "    Quantiles (est.):\n",
       "         0.1%: 0.47350000000000003\n",
       "           1%: 13.511111111111113\n",
       "           5%: 12.666666666666666\n",
       "          25%: 20.28\n",
       "          50%: 28.0\n",
       "          75%: 38.2\n",
       "          95%: 56.30666666666666\n",
       "          99%: 67.44000000000005\n",
       "        99.9%: 78.71599999999967\n",
       "\n",
       "    mean: 29.69911764705884\n",
       "    std: 14.526497332334035\n",
       "    variance: 211.01912474630785\n",
       "    skewness: 0.38747440217598533\n",
       "    kurtosis: 0.15976705504659172\n",
       "    whisker_top: 65.0\n",
       "    whisker_bottom: 0.42\n",
       "\n",
       "ColumnProfile:\n",
       "    column_name: SibSp\n",
       "    type: FieldType.STRING\n",
       "\n",
       "    min: 0\n",
       "    max: 8\n",
       "    count: 891.0\n",
       "    missing_count: 0.0\n",
       "    not_missing_count: 891.0\n",
       "    percent_missing: 0.0\n",
       "    error_count: 0.0\n",
       "    empty_count: 0.0\n",
       "    unique_values: 7\n",
       "\n",
       "\n",
       "ColumnProfile:\n",
       "    column_name: Fare\n",
       "    type: FieldType.DECIMAL\n",
       "\n",
       "    min: 0.0\n",
       "    max: 512.3292\n",
       "    count: 891.0\n",
       "    missing_count: 0.0\n",
       "    not_missing_count: 891.0\n",
       "    percent_missing: 0.0\n",
       "    error_count: 0.0\n",
       "    empty_count: 0.0\n",
       "    unique_values: 248\n",
       "\n",
       "\n",
       "    Quantiles (est.):\n",
       "         0.1%: 0.0\n",
       "           1%: 7.544055\n",
       "           5%: 7.5156\n",
       "          25%: 7.90776388888889\n",
       "          50%: 14.456044897959186\n",
       "          75%: 31.065970833333328\n",
       "          95%: 112.45119222222219\n",
       "          99%: 255.39352600000015\n",
       "        99.9%: 512.3292\n",
       "\n",
       "    mean: 32.20420796857465\n",
       "    std: 49.69342859718089\n",
       "    variance: 2469.4368457431156\n",
       "    skewness: 4.771209669373588\n",
       "    kurtosis: 33.123068214278824\n",
       "    whisker_top: 63.34334\n",
       "    whisker_bottom: 0.0\n",
       "\n",
       "ColumnProfile:\n",
       "    column_name: Embarked\n",
       "    type: FieldType.STRING\n",
       "\n",
       "    min: C\n",
       "    max: S\n",
       "    count: 891.0\n",
       "    missing_count: 2.0\n",
       "    not_missing_count: 889.0\n",
       "    percent_missing: 0.002244668911335578\n",
       "    error_count: 0.0\n",
       "    empty_count: 0.0\n",
       "    unique_values: 4\n"
      ]
     },
     "execution_count": 83,
     "metadata": {},
     "output_type": "execute_result"
    }
   ],
   "source": [
    "profile"
   ]
  },
  {
   "cell_type": "code",
   "execution_count": 84,
   "metadata": {},
   "outputs": [],
   "source": [
    "url=\"https://raw.githubusercontent.com/retkowsky/titanic/master/train.csv\"\n",
    "df=pd.read_csv(url, index_col=None, na_values=['NA'])"
   ]
  },
  {
   "cell_type": "code",
   "execution_count": 85,
   "metadata": {},
   "outputs": [
    {
     "data": {
      "text/plain": [
       "PassengerId    0  \n",
       "Survived       0  \n",
       "Pclass         0  \n",
       "Name           0  \n",
       "Sex            0  \n",
       "Age            177\n",
       "SibSp          0  \n",
       "Parch          0  \n",
       "Ticket         0  \n",
       "Fare           0  \n",
       "Cabin          687\n",
       "Embarked       2  \n",
       "dtype: int64"
      ]
     },
     "execution_count": 85,
     "metadata": {},
     "output_type": "execute_result"
    }
   ],
   "source": [
    "df.isna().sum()"
   ]
  },
  {
   "cell_type": "code",
   "execution_count": 86,
   "metadata": {},
   "outputs": [],
   "source": [
    "# Suppression valeurs manquantes\n",
    "df = df.dropna()"
   ]
  },
  {
   "cell_type": "code",
   "execution_count": 87,
   "metadata": {},
   "outputs": [
    {
     "data": {
      "text/plain": [
       "PassengerId    0\n",
       "Survived       0\n",
       "Pclass         0\n",
       "Name           0\n",
       "Sex            0\n",
       "Age            0\n",
       "SibSp          0\n",
       "Parch          0\n",
       "Ticket         0\n",
       "Fare           0\n",
       "Cabin          0\n",
       "Embarked       0\n",
       "dtype: int64"
      ]
     },
     "execution_count": 87,
     "metadata": {},
     "output_type": "execute_result"
    }
   ],
   "source": [
    "df.isna().sum()"
   ]
  },
  {
   "cell_type": "code",
   "execution_count": 88,
   "metadata": {},
   "outputs": [
    {
     "data": {
      "text/plain": [
       "(183, 12)"
      ]
     },
     "execution_count": 88,
     "metadata": {},
     "output_type": "execute_result"
    }
   ],
   "source": [
    "# Nombre de col et de lignes\n",
    "df.shape"
   ]
  },
  {
   "cell_type": "code",
   "execution_count": 89,
   "metadata": {},
   "outputs": [
    {
     "data": {
      "text/plain": [
       "Index(['PassengerId', 'Survived', 'Pclass', 'Name', 'Sex', 'Age', 'SibSp',\n",
       "       'Parch', 'Ticket', 'Fare', 'Cabin', 'Embarked'],\n",
       "      dtype='object')"
      ]
     },
     "execution_count": 89,
     "metadata": {},
     "output_type": "execute_result"
    }
   ],
   "source": [
    "df.columns"
   ]
  },
  {
   "cell_type": "code",
   "execution_count": 90,
   "metadata": {},
   "outputs": [
    {
     "data": {
      "text/plain": [
       "PassengerId    int64  \n",
       "Survived       int64  \n",
       "Pclass         int64  \n",
       "Name           object \n",
       "Sex            object \n",
       "Age            float64\n",
       "SibSp          int64  \n",
       "Parch          int64  \n",
       "Ticket         object \n",
       "Fare           float64\n",
       "Cabin          object \n",
       "Embarked       object \n",
       "dtype: object"
      ]
     },
     "execution_count": 90,
     "metadata": {},
     "output_type": "execute_result"
    }
   ],
   "source": [
    "df.dtypes"
   ]
  },
  {
   "cell_type": "code",
   "execution_count": 91,
   "metadata": {},
   "outputs": [],
   "source": [
    "# Suppression de colonnes\n",
    "df = df.drop(['Cabin','Parch'],axis=1)"
   ]
  },
  {
   "cell_type": "code",
   "execution_count": 92,
   "metadata": {},
   "outputs": [
    {
     "data": {
      "text/html": [
       "<div>\n",
       "<style scoped>\n",
       "    .dataframe tbody tr th:only-of-type {\n",
       "        vertical-align: middle;\n",
       "    }\n",
       "\n",
       "    .dataframe tbody tr th {\n",
       "        vertical-align: top;\n",
       "    }\n",
       "\n",
       "    .dataframe thead th {\n",
       "        text-align: right;\n",
       "    }\n",
       "</style>\n",
       "<table border=\"1\" class=\"dataframe\">\n",
       "  <thead>\n",
       "    <tr style=\"text-align: right;\">\n",
       "      <th></th>\n",
       "      <th>PassengerId</th>\n",
       "      <th>Survived</th>\n",
       "      <th>Pclass</th>\n",
       "      <th>Name</th>\n",
       "      <th>Sex</th>\n",
       "      <th>Age</th>\n",
       "      <th>SibSp</th>\n",
       "      <th>Ticket</th>\n",
       "      <th>Fare</th>\n",
       "      <th>Embarked</th>\n",
       "    </tr>\n",
       "  </thead>\n",
       "  <tbody>\n",
       "    <tr>\n",
       "      <th>1</th>\n",
       "      <td>2</td>\n",
       "      <td>1</td>\n",
       "      <td>1</td>\n",
       "      <td>Cumings, Mrs. John Bradley (Florence Briggs Thayer)</td>\n",
       "      <td>female</td>\n",
       "      <td>38.00</td>\n",
       "      <td>1</td>\n",
       "      <td>PC 17599</td>\n",
       "      <td>71.28</td>\n",
       "      <td>C</td>\n",
       "    </tr>\n",
       "    <tr>\n",
       "      <th>3</th>\n",
       "      <td>4</td>\n",
       "      <td>1</td>\n",
       "      <td>1</td>\n",
       "      <td>Futrelle, Mrs. Jacques Heath (Lily May Peel)</td>\n",
       "      <td>female</td>\n",
       "      <td>35.00</td>\n",
       "      <td>1</td>\n",
       "      <td>113803</td>\n",
       "      <td>53.10</td>\n",
       "      <td>S</td>\n",
       "    </tr>\n",
       "    <tr>\n",
       "      <th>6</th>\n",
       "      <td>7</td>\n",
       "      <td>0</td>\n",
       "      <td>1</td>\n",
       "      <td>McCarthy, Mr. Timothy J</td>\n",
       "      <td>male</td>\n",
       "      <td>54.00</td>\n",
       "      <td>0</td>\n",
       "      <td>17463</td>\n",
       "      <td>51.86</td>\n",
       "      <td>S</td>\n",
       "    </tr>\n",
       "    <tr>\n",
       "      <th>10</th>\n",
       "      <td>11</td>\n",
       "      <td>1</td>\n",
       "      <td>3</td>\n",
       "      <td>Sandstrom, Miss. Marguerite Rut</td>\n",
       "      <td>female</td>\n",
       "      <td>4.00</td>\n",
       "      <td>1</td>\n",
       "      <td>PP 9549</td>\n",
       "      <td>16.70</td>\n",
       "      <td>S</td>\n",
       "    </tr>\n",
       "    <tr>\n",
       "      <th>11</th>\n",
       "      <td>12</td>\n",
       "      <td>1</td>\n",
       "      <td>1</td>\n",
       "      <td>Bonnell, Miss. Elizabeth</td>\n",
       "      <td>female</td>\n",
       "      <td>58.00</td>\n",
       "      <td>0</td>\n",
       "      <td>113783</td>\n",
       "      <td>26.55</td>\n",
       "      <td>S</td>\n",
       "    </tr>\n",
       "    <tr>\n",
       "      <th>21</th>\n",
       "      <td>22</td>\n",
       "      <td>1</td>\n",
       "      <td>2</td>\n",
       "      <td>Beesley, Mr. Lawrence</td>\n",
       "      <td>male</td>\n",
       "      <td>34.00</td>\n",
       "      <td>0</td>\n",
       "      <td>248698</td>\n",
       "      <td>13.00</td>\n",
       "      <td>S</td>\n",
       "    </tr>\n",
       "    <tr>\n",
       "      <th>23</th>\n",
       "      <td>24</td>\n",
       "      <td>1</td>\n",
       "      <td>1</td>\n",
       "      <td>Sloper, Mr. William Thompson</td>\n",
       "      <td>male</td>\n",
       "      <td>28.00</td>\n",
       "      <td>0</td>\n",
       "      <td>113788</td>\n",
       "      <td>35.50</td>\n",
       "      <td>S</td>\n",
       "    </tr>\n",
       "    <tr>\n",
       "      <th>27</th>\n",
       "      <td>28</td>\n",
       "      <td>0</td>\n",
       "      <td>1</td>\n",
       "      <td>Fortune, Mr. Charles Alexander</td>\n",
       "      <td>male</td>\n",
       "      <td>19.00</td>\n",
       "      <td>3</td>\n",
       "      <td>19950</td>\n",
       "      <td>263.00</td>\n",
       "      <td>S</td>\n",
       "    </tr>\n",
       "    <tr>\n",
       "      <th>52</th>\n",
       "      <td>53</td>\n",
       "      <td>1</td>\n",
       "      <td>1</td>\n",
       "      <td>Harper, Mrs. Henry Sleeper (Myna Haxtun)</td>\n",
       "      <td>female</td>\n",
       "      <td>49.00</td>\n",
       "      <td>1</td>\n",
       "      <td>PC 17572</td>\n",
       "      <td>76.73</td>\n",
       "      <td>C</td>\n",
       "    </tr>\n",
       "    <tr>\n",
       "      <th>54</th>\n",
       "      <td>55</td>\n",
       "      <td>0</td>\n",
       "      <td>1</td>\n",
       "      <td>Ostby, Mr. Engelhart Cornelius</td>\n",
       "      <td>male</td>\n",
       "      <td>65.00</td>\n",
       "      <td>0</td>\n",
       "      <td>113509</td>\n",
       "      <td>61.98</td>\n",
       "      <td>C</td>\n",
       "    </tr>\n",
       "    <tr>\n",
       "      <th>62</th>\n",
       "      <td>63</td>\n",
       "      <td>0</td>\n",
       "      <td>1</td>\n",
       "      <td>Harris, Mr. Henry Birkhardt</td>\n",
       "      <td>male</td>\n",
       "      <td>45.00</td>\n",
       "      <td>1</td>\n",
       "      <td>36973</td>\n",
       "      <td>83.47</td>\n",
       "      <td>S</td>\n",
       "    </tr>\n",
       "    <tr>\n",
       "      <th>66</th>\n",
       "      <td>67</td>\n",
       "      <td>1</td>\n",
       "      <td>2</td>\n",
       "      <td>Nye, Mrs. (Elizabeth Ramell)</td>\n",
       "      <td>female</td>\n",
       "      <td>29.00</td>\n",
       "      <td>0</td>\n",
       "      <td>C.A. 29395</td>\n",
       "      <td>10.50</td>\n",
       "      <td>S</td>\n",
       "    </tr>\n",
       "    <tr>\n",
       "      <th>75</th>\n",
       "      <td>76</td>\n",
       "      <td>0</td>\n",
       "      <td>3</td>\n",
       "      <td>Moen, Mr. Sigurd Hansen</td>\n",
       "      <td>male</td>\n",
       "      <td>25.00</td>\n",
       "      <td>0</td>\n",
       "      <td>348123</td>\n",
       "      <td>7.65</td>\n",
       "      <td>S</td>\n",
       "    </tr>\n",
       "    <tr>\n",
       "      <th>88</th>\n",
       "      <td>89</td>\n",
       "      <td>1</td>\n",
       "      <td>1</td>\n",
       "      <td>Fortune, Miss. Mabel Helen</td>\n",
       "      <td>female</td>\n",
       "      <td>23.00</td>\n",
       "      <td>3</td>\n",
       "      <td>19950</td>\n",
       "      <td>263.00</td>\n",
       "      <td>S</td>\n",
       "    </tr>\n",
       "    <tr>\n",
       "      <th>92</th>\n",
       "      <td>93</td>\n",
       "      <td>0</td>\n",
       "      <td>1</td>\n",
       "      <td>Chaffee, Mr. Herbert Fuller</td>\n",
       "      <td>male</td>\n",
       "      <td>46.00</td>\n",
       "      <td>1</td>\n",
       "      <td>W.E.P. 5734</td>\n",
       "      <td>61.17</td>\n",
       "      <td>S</td>\n",
       "    </tr>\n",
       "    <tr>\n",
       "      <th>96</th>\n",
       "      <td>97</td>\n",
       "      <td>0</td>\n",
       "      <td>1</td>\n",
       "      <td>Goldschmidt, Mr. George B</td>\n",
       "      <td>male</td>\n",
       "      <td>71.00</td>\n",
       "      <td>0</td>\n",
       "      <td>PC 17754</td>\n",
       "      <td>34.65</td>\n",
       "      <td>C</td>\n",
       "    </tr>\n",
       "    <tr>\n",
       "      <th>97</th>\n",
       "      <td>98</td>\n",
       "      <td>1</td>\n",
       "      <td>1</td>\n",
       "      <td>Greenfield, Mr. William Bertram</td>\n",
       "      <td>male</td>\n",
       "      <td>23.00</td>\n",
       "      <td>0</td>\n",
       "      <td>PC 17759</td>\n",
       "      <td>63.36</td>\n",
       "      <td>C</td>\n",
       "    </tr>\n",
       "    <tr>\n",
       "      <th>102</th>\n",
       "      <td>103</td>\n",
       "      <td>0</td>\n",
       "      <td>1</td>\n",
       "      <td>White, Mr. Richard Frasar</td>\n",
       "      <td>male</td>\n",
       "      <td>21.00</td>\n",
       "      <td>0</td>\n",
       "      <td>35281</td>\n",
       "      <td>77.29</td>\n",
       "      <td>S</td>\n",
       "    </tr>\n",
       "    <tr>\n",
       "      <th>110</th>\n",
       "      <td>111</td>\n",
       "      <td>0</td>\n",
       "      <td>1</td>\n",
       "      <td>Porter, Mr. Walter Chamberlain</td>\n",
       "      <td>male</td>\n",
       "      <td>47.00</td>\n",
       "      <td>0</td>\n",
       "      <td>110465</td>\n",
       "      <td>52.00</td>\n",
       "      <td>S</td>\n",
       "    </tr>\n",
       "    <tr>\n",
       "      <th>118</th>\n",
       "      <td>119</td>\n",
       "      <td>0</td>\n",
       "      <td>1</td>\n",
       "      <td>Baxter, Mr. Quigg Edmond</td>\n",
       "      <td>male</td>\n",
       "      <td>24.00</td>\n",
       "      <td>0</td>\n",
       "      <td>PC 17558</td>\n",
       "      <td>247.52</td>\n",
       "      <td>C</td>\n",
       "    </tr>\n",
       "  </tbody>\n",
       "</table>\n",
       "</div>"
      ],
      "text/plain": [
       "     PassengerId  Survived  Pclass  \\\n",
       "1    2            1         1        \n",
       "3    4            1         1        \n",
       "6    7            0         1        \n",
       "10   11           1         3        \n",
       "11   12           1         1        \n",
       "21   22           1         2        \n",
       "23   24           1         1        \n",
       "27   28           0         1        \n",
       "52   53           1         1        \n",
       "54   55           0         1        \n",
       "62   63           0         1        \n",
       "66   67           1         2        \n",
       "75   76           0         3        \n",
       "88   89           1         1        \n",
       "92   93           0         1        \n",
       "96   97           0         1        \n",
       "97   98           1         1        \n",
       "102  103          0         1        \n",
       "110  111          0         1        \n",
       "118  119          0         1        \n",
       "\n",
       "                                                    Name     Sex   Age  SibSp  \\\n",
       "1    Cumings, Mrs. John Bradley (Florence Briggs Thayer)  female 38.00  1       \n",
       "3    Futrelle, Mrs. Jacques Heath (Lily May Peel)         female 35.00  1       \n",
       "6    McCarthy, Mr. Timothy J                              male   54.00  0       \n",
       "10   Sandstrom, Miss. Marguerite Rut                      female 4.00   1       \n",
       "11   Bonnell, Miss. Elizabeth                             female 58.00  0       \n",
       "21   Beesley, Mr. Lawrence                                male   34.00  0       \n",
       "23   Sloper, Mr. William Thompson                         male   28.00  0       \n",
       "27   Fortune, Mr. Charles Alexander                       male   19.00  3       \n",
       "52   Harper, Mrs. Henry Sleeper (Myna Haxtun)             female 49.00  1       \n",
       "54   Ostby, Mr. Engelhart Cornelius                       male   65.00  0       \n",
       "62   Harris, Mr. Henry Birkhardt                          male   45.00  1       \n",
       "66   Nye, Mrs. (Elizabeth Ramell)                         female 29.00  0       \n",
       "75   Moen, Mr. Sigurd Hansen                              male   25.00  0       \n",
       "88   Fortune, Miss. Mabel Helen                           female 23.00  3       \n",
       "92   Chaffee, Mr. Herbert Fuller                          male   46.00  1       \n",
       "96   Goldschmidt, Mr. George B                            male   71.00  0       \n",
       "97   Greenfield, Mr. William Bertram                      male   23.00  0       \n",
       "102  White, Mr. Richard Frasar                            male   21.00  0       \n",
       "110  Porter, Mr. Walter Chamberlain                       male   47.00  0       \n",
       "118  Baxter, Mr. Quigg Edmond                             male   24.00  0       \n",
       "\n",
       "          Ticket   Fare Embarked  \n",
       "1    PC 17599    71.28   C        \n",
       "3    113803      53.10   S        \n",
       "6    17463       51.86   S        \n",
       "10   PP 9549     16.70   S        \n",
       "11   113783      26.55   S        \n",
       "21   248698      13.00   S        \n",
       "23   113788      35.50   S        \n",
       "27   19950       263.00  S        \n",
       "52   PC 17572    76.73   C        \n",
       "54   113509      61.98   C        \n",
       "62   36973       83.47   S        \n",
       "66   C.A. 29395  10.50   S        \n",
       "75   348123      7.65    S        \n",
       "88   19950       263.00  S        \n",
       "92   W.E.P. 5734 61.17   S        \n",
       "96   PC 17754    34.65   C        \n",
       "97   PC 17759    63.36   C        \n",
       "102  35281       77.29   S        \n",
       "110  110465      52.00   S        \n",
       "118  PC 17558    247.52  C        "
      ]
     },
     "execution_count": 92,
     "metadata": {},
     "output_type": "execute_result"
    }
   ],
   "source": [
    "df.head(20)"
   ]
  },
  {
   "cell_type": "markdown",
   "metadata": {},
   "source": [
    "## 2. Analyses exploratoires"
   ]
  },
  {
   "cell_type": "code",
   "execution_count": 93,
   "metadata": {},
   "outputs": [
    {
     "data": {
      "text/html": [
       "<div>\n",
       "<style scoped>\n",
       "    .dataframe tbody tr th:only-of-type {\n",
       "        vertical-align: middle;\n",
       "    }\n",
       "\n",
       "    .dataframe tbody tr th {\n",
       "        vertical-align: top;\n",
       "    }\n",
       "\n",
       "    .dataframe thead th {\n",
       "        text-align: right;\n",
       "    }\n",
       "</style>\n",
       "<table border=\"1\" class=\"dataframe\">\n",
       "  <thead>\n",
       "    <tr style=\"text-align: right;\">\n",
       "      <th></th>\n",
       "      <th>PassengerId</th>\n",
       "      <th>Survived</th>\n",
       "      <th>Pclass</th>\n",
       "      <th>Age</th>\n",
       "      <th>SibSp</th>\n",
       "      <th>Fare</th>\n",
       "    </tr>\n",
       "  </thead>\n",
       "  <tbody>\n",
       "    <tr>\n",
       "      <th>count</th>\n",
       "      <td>183.00</td>\n",
       "      <td>183.00</td>\n",
       "      <td>183.00</td>\n",
       "      <td>183.00</td>\n",
       "      <td>183.00</td>\n",
       "      <td>183.00</td>\n",
       "    </tr>\n",
       "    <tr>\n",
       "      <th>mean</th>\n",
       "      <td>455.37</td>\n",
       "      <td>0.67</td>\n",
       "      <td>1.19</td>\n",
       "      <td>35.67</td>\n",
       "      <td>0.46</td>\n",
       "      <td>78.68</td>\n",
       "    </tr>\n",
       "    <tr>\n",
       "      <th>std</th>\n",
       "      <td>247.05</td>\n",
       "      <td>0.47</td>\n",
       "      <td>0.52</td>\n",
       "      <td>15.64</td>\n",
       "      <td>0.64</td>\n",
       "      <td>76.35</td>\n",
       "    </tr>\n",
       "    <tr>\n",
       "      <th>min</th>\n",
       "      <td>2.00</td>\n",
       "      <td>0.00</td>\n",
       "      <td>1.00</td>\n",
       "      <td>0.92</td>\n",
       "      <td>0.00</td>\n",
       "      <td>0.00</td>\n",
       "    </tr>\n",
       "    <tr>\n",
       "      <th>25%</th>\n",
       "      <td>263.50</td>\n",
       "      <td>0.00</td>\n",
       "      <td>1.00</td>\n",
       "      <td>24.00</td>\n",
       "      <td>0.00</td>\n",
       "      <td>29.70</td>\n",
       "    </tr>\n",
       "    <tr>\n",
       "      <th>50%</th>\n",
       "      <td>457.00</td>\n",
       "      <td>1.00</td>\n",
       "      <td>1.00</td>\n",
       "      <td>36.00</td>\n",
       "      <td>0.00</td>\n",
       "      <td>57.00</td>\n",
       "    </tr>\n",
       "    <tr>\n",
       "      <th>75%</th>\n",
       "      <td>676.00</td>\n",
       "      <td>1.00</td>\n",
       "      <td>1.00</td>\n",
       "      <td>47.50</td>\n",
       "      <td>1.00</td>\n",
       "      <td>90.00</td>\n",
       "    </tr>\n",
       "    <tr>\n",
       "      <th>max</th>\n",
       "      <td>890.00</td>\n",
       "      <td>1.00</td>\n",
       "      <td>3.00</td>\n",
       "      <td>80.00</td>\n",
       "      <td>3.00</td>\n",
       "      <td>512.33</td>\n",
       "    </tr>\n",
       "  </tbody>\n",
       "</table>\n",
       "</div>"
      ],
      "text/plain": [
       "       PassengerId  Survived  Pclass    Age  SibSp   Fare\n",
       "count 183.00       183.00    183.00  183.00 183.00 183.00\n",
       "mean  455.37       0.67      1.19    35.67  0.46   78.68 \n",
       "std   247.05       0.47      0.52    15.64  0.64   76.35 \n",
       "min   2.00         0.00      1.00    0.92   0.00   0.00  \n",
       "25%   263.50       0.00      1.00    24.00  0.00   29.70 \n",
       "50%   457.00       1.00      1.00    36.00  0.00   57.00 \n",
       "75%   676.00       1.00      1.00    47.50  1.00   90.00 \n",
       "max   890.00       1.00      3.00    80.00  3.00   512.33"
      ]
     },
     "execution_count": 93,
     "metadata": {},
     "output_type": "execute_result"
    }
   ],
   "source": [
    "df.describe()"
   ]
  },
  {
   "cell_type": "code",
   "execution_count": 94,
   "metadata": {},
   "outputs": [
    {
     "data": {
      "text/html": [
       "<div>\n",
       "<style scoped>\n",
       "    .dataframe tbody tr th:only-of-type {\n",
       "        vertical-align: middle;\n",
       "    }\n",
       "\n",
       "    .dataframe tbody tr th {\n",
       "        vertical-align: top;\n",
       "    }\n",
       "\n",
       "    .dataframe thead th {\n",
       "        text-align: right;\n",
       "    }\n",
       "</style>\n",
       "<table border=\"1\" class=\"dataframe\">\n",
       "  <thead>\n",
       "    <tr style=\"text-align: right;\">\n",
       "      <th></th>\n",
       "      <th>PassengerId</th>\n",
       "      <th>Survived</th>\n",
       "      <th>Pclass</th>\n",
       "      <th>Age</th>\n",
       "      <th>SibSp</th>\n",
       "      <th>Fare</th>\n",
       "    </tr>\n",
       "  </thead>\n",
       "  <tbody>\n",
       "    <tr>\n",
       "      <th>PassengerId</th>\n",
       "      <td>1.00</td>\n",
       "      <td>0.15</td>\n",
       "      <td>-0.09</td>\n",
       "      <td>0.03</td>\n",
       "      <td>-0.08</td>\n",
       "      <td>0.03</td>\n",
       "    </tr>\n",
       "    <tr>\n",
       "      <th>Survived</th>\n",
       "      <td>0.15</td>\n",
       "      <td>1.00</td>\n",
       "      <td>-0.03</td>\n",
       "      <td>-0.25</td>\n",
       "      <td>0.11</td>\n",
       "      <td>0.13</td>\n",
       "    </tr>\n",
       "    <tr>\n",
       "      <th>Pclass</th>\n",
       "      <td>-0.09</td>\n",
       "      <td>-0.03</td>\n",
       "      <td>1.00</td>\n",
       "      <td>-0.31</td>\n",
       "      <td>-0.10</td>\n",
       "      <td>-0.32</td>\n",
       "    </tr>\n",
       "    <tr>\n",
       "      <th>Age</th>\n",
       "      <td>0.03</td>\n",
       "      <td>-0.25</td>\n",
       "      <td>-0.31</td>\n",
       "      <td>1.00</td>\n",
       "      <td>-0.16</td>\n",
       "      <td>-0.09</td>\n",
       "    </tr>\n",
       "    <tr>\n",
       "      <th>SibSp</th>\n",
       "      <td>-0.08</td>\n",
       "      <td>0.11</td>\n",
       "      <td>-0.10</td>\n",
       "      <td>-0.16</td>\n",
       "      <td>1.00</td>\n",
       "      <td>0.29</td>\n",
       "    </tr>\n",
       "    <tr>\n",
       "      <th>Fare</th>\n",
       "      <td>0.03</td>\n",
       "      <td>0.13</td>\n",
       "      <td>-0.32</td>\n",
       "      <td>-0.09</td>\n",
       "      <td>0.29</td>\n",
       "      <td>1.00</td>\n",
       "    </tr>\n",
       "  </tbody>\n",
       "</table>\n",
       "</div>"
      ],
      "text/plain": [
       "             PassengerId  Survived  Pclass   Age  SibSp  Fare\n",
       "PassengerId 1.00         0.15      -0.09   0.03  -0.08  0.03 \n",
       "Survived    0.15         1.00      -0.03   -0.25 0.11   0.13 \n",
       "Pclass      -0.09        -0.03     1.00    -0.31 -0.10  -0.32\n",
       "Age         0.03         -0.25     -0.31   1.00  -0.16  -0.09\n",
       "SibSp       -0.08        0.11      -0.10   -0.16 1.00   0.29 \n",
       "Fare        0.03         0.13      -0.32   -0.09 0.29   1.00 "
      ]
     },
     "execution_count": 94,
     "metadata": {},
     "output_type": "execute_result"
    }
   ],
   "source": [
    "df.corr()"
   ]
  },
  {
   "cell_type": "markdown",
   "metadata": {},
   "source": [
    "## 3. Modélisation AutoML avec Azure ML service"
   ]
  },
  {
   "cell_type": "markdown",
   "metadata": {},
   "source": [
    "<img src=\"https://blog.cellenza.com/wp-content/uploads/2018/11/automl.png\">"
   ]
  },
  {
   "cell_type": "code",
   "execution_count": 95,
   "metadata": {},
   "outputs": [],
   "source": [
    "col_target=['Survived']\n",
    "col_train=['Age','Pclass','Sex','Fare','SibSp','Embarked']\n",
    "X=df[col_train]\n",
    "y=df[col_target]"
   ]
  },
  {
   "cell_type": "code",
   "execution_count": 96,
   "metadata": {},
   "outputs": [
    {
     "data": {
      "text/html": [
       "<div>\n",
       "<style scoped>\n",
       "    .dataframe tbody tr th:only-of-type {\n",
       "        vertical-align: middle;\n",
       "    }\n",
       "\n",
       "    .dataframe tbody tr th {\n",
       "        vertical-align: top;\n",
       "    }\n",
       "\n",
       "    .dataframe thead th {\n",
       "        text-align: right;\n",
       "    }\n",
       "</style>\n",
       "<table border=\"1\" class=\"dataframe\">\n",
       "  <thead>\n",
       "    <tr style=\"text-align: right;\">\n",
       "      <th></th>\n",
       "      <th>Age</th>\n",
       "      <th>Pclass</th>\n",
       "      <th>Fare</th>\n",
       "      <th>SibSp</th>\n",
       "    </tr>\n",
       "  </thead>\n",
       "  <tbody>\n",
       "    <tr>\n",
       "      <th>count</th>\n",
       "      <td>183.00</td>\n",
       "      <td>183.00</td>\n",
       "      <td>183.00</td>\n",
       "      <td>183.00</td>\n",
       "    </tr>\n",
       "    <tr>\n",
       "      <th>mean</th>\n",
       "      <td>35.67</td>\n",
       "      <td>1.19</td>\n",
       "      <td>78.68</td>\n",
       "      <td>0.46</td>\n",
       "    </tr>\n",
       "    <tr>\n",
       "      <th>std</th>\n",
       "      <td>15.64</td>\n",
       "      <td>0.52</td>\n",
       "      <td>76.35</td>\n",
       "      <td>0.64</td>\n",
       "    </tr>\n",
       "    <tr>\n",
       "      <th>min</th>\n",
       "      <td>0.92</td>\n",
       "      <td>1.00</td>\n",
       "      <td>0.00</td>\n",
       "      <td>0.00</td>\n",
       "    </tr>\n",
       "    <tr>\n",
       "      <th>25%</th>\n",
       "      <td>24.00</td>\n",
       "      <td>1.00</td>\n",
       "      <td>29.70</td>\n",
       "      <td>0.00</td>\n",
       "    </tr>\n",
       "    <tr>\n",
       "      <th>50%</th>\n",
       "      <td>36.00</td>\n",
       "      <td>1.00</td>\n",
       "      <td>57.00</td>\n",
       "      <td>0.00</td>\n",
       "    </tr>\n",
       "    <tr>\n",
       "      <th>75%</th>\n",
       "      <td>47.50</td>\n",
       "      <td>1.00</td>\n",
       "      <td>90.00</td>\n",
       "      <td>1.00</td>\n",
       "    </tr>\n",
       "    <tr>\n",
       "      <th>max</th>\n",
       "      <td>80.00</td>\n",
       "      <td>3.00</td>\n",
       "      <td>512.33</td>\n",
       "      <td>3.00</td>\n",
       "    </tr>\n",
       "  </tbody>\n",
       "</table>\n",
       "</div>"
      ],
      "text/plain": [
       "         Age  Pclass   Fare  SibSp\n",
       "count 183.00 183.00  183.00 183.00\n",
       "mean  35.67  1.19    78.68  0.46  \n",
       "std   15.64  0.52    76.35  0.64  \n",
       "min   0.92   1.00    0.00   0.00  \n",
       "25%   24.00  1.00    29.70  0.00  \n",
       "50%   36.00  1.00    57.00  0.00  \n",
       "75%   47.50  1.00    90.00  1.00  \n",
       "max   80.00  3.00    512.33 3.00  "
      ]
     },
     "execution_count": 96,
     "metadata": {},
     "output_type": "execute_result"
    }
   ],
   "source": [
    "X.describe()"
   ]
  },
  {
   "cell_type": "code",
   "execution_count": 97,
   "metadata": {},
   "outputs": [],
   "source": [
    "dic = {'male':0,'female':1}\n",
    "X['Sex']=X['Sex'].apply(lambda x:dic[x])"
   ]
  },
  {
   "cell_type": "markdown",
   "metadata": {},
   "source": [
    "### 3.1 Partitionnement des données"
   ]
  },
  {
   "cell_type": "code",
   "execution_count": 98,
   "metadata": {},
   "outputs": [],
   "source": [
    "from sklearn.model_selection import train_test_split\n",
    "X_train,X_test,y_train,y_test=train_test_split(X,y,test_size=0.3, random_state=10)"
   ]
  },
  {
   "cell_type": "code",
   "execution_count": 99,
   "metadata": {},
   "outputs": [
    {
     "name": "stdout",
     "output_type": "stream",
     "text": [
      "(183, 6)\n"
     ]
    }
   ],
   "source": [
    "print(X.shape)"
   ]
  },
  {
   "cell_type": "code",
   "execution_count": 100,
   "metadata": {},
   "outputs": [
    {
     "name": "stdout",
     "output_type": "stream",
     "text": [
      "(128, 6)\n"
     ]
    }
   ],
   "source": [
    "print(X_train.shape)"
   ]
  },
  {
   "cell_type": "code",
   "execution_count": 101,
   "metadata": {},
   "outputs": [
    {
     "name": "stdout",
     "output_type": "stream",
     "text": [
      "(55, 6)\n"
     ]
    }
   ],
   "source": [
    "print(X_test.shape)"
   ]
  },
  {
   "cell_type": "code",
   "execution_count": 102,
   "metadata": {},
   "outputs": [
    {
     "data": {
      "text/plain": [
       "<matplotlib.axes._subplots.AxesSubplot at 0x7fc011500940>"
      ]
     },
     "execution_count": 102,
     "metadata": {},
     "output_type": "execute_result"
    },
    {
     "data": {
      "image/png": "[encoded data removed]",
      "text/plain": [
       "<Figure size 432x288 with 1 Axes>"
      ]
     },
     "metadata": {
      "needs_background": "light"
     },
     "output_type": "display_data"
    }
   ],
   "source": [
    "df.groupby('Survived').size().plot(kind='bar')"
   ]
  },
  {
   "cell_type": "code",
   "execution_count": 103,
   "metadata": {},
   "outputs": [
    {
     "data": {
      "text/plain": [
       "<matplotlib.axes._subplots.AxesSubplot at 0x7fc0113c45f8>"
      ]
     },
     "execution_count": 103,
     "metadata": {},
     "output_type": "execute_result"
    },
    {
     "data": {
      "image/png": "[encoded data removed]",
      "text/plain": [
       "<Figure size 432x288 with 1 Axes>"
      ]
     },
     "metadata": {
      "needs_background": "light"
     },
     "output_type": "display_data"
    }
   ],
   "source": [
    "# Sur le Training\n",
    "y_train.groupby('Survived').size().plot(kind='bar')"
   ]
  },
  {
   "cell_type": "code",
   "execution_count": 104,
   "metadata": {},
   "outputs": [
    {
     "data": {
      "text/plain": [
       "<matplotlib.axes._subplots.AxesSubplot at 0x7fc01139e208>"
      ]
     },
     "execution_count": 104,
     "metadata": {},
     "output_type": "execute_result"
    },
    {
     "data": {
      "image/png": "[encoded data removed]",
      "text/plain": [
       "<Figure size 432x288 with 1 Axes>"
      ]
     },
     "metadata": {
      "needs_background": "light"
     },
     "output_type": "display_data"
    }
   ],
   "source": [
    "# Sur le test\n",
    "y_test.groupby('Survived').size().plot(kind='bar')"
   ]
  },
  {
   "cell_type": "markdown",
   "metadata": {},
   "source": [
    "### 3.2 Connexion workspace Azure ML service"
   ]
  },
  {
   "cell_type": "code",
   "execution_count": 105,
   "metadata": {},
   "outputs": [],
   "source": [
    "ws = Workspace.from_config()\n",
    "\n",
    "experiment_name = 'AutoMLTitanicSDK'\n",
    "\n",
    "project_folder = './sample_projects/automltitanicsdk'"
   ]
  },
  {
   "cell_type": "code",
   "execution_count": 106,
   "metadata": {},
   "outputs": [
    {
     "data": {
      "text/html": [
       "<div>\n",
       "<style scoped>\n",
       "    .dataframe tbody tr th:only-of-type {\n",
       "        vertical-align: middle;\n",
       "    }\n",
       "\n",
       "    .dataframe tbody tr th {\n",
       "        vertical-align: top;\n",
       "    }\n",
       "\n",
       "    .dataframe thead th {\n",
       "        text-align: right;\n",
       "    }\n",
       "</style>\n",
       "<table border=\"1\" class=\"dataframe\">\n",
       "  <thead>\n",
       "    <tr style=\"text-align: right;\">\n",
       "      <th></th>\n",
       "      <th></th>\n",
       "    </tr>\n",
       "  </thead>\n",
       "  <tbody>\n",
       "    <tr>\n",
       "      <th>Version Azure ML service</th>\n",
       "      <td>1.12.0</td>\n",
       "    </tr>\n",
       "    <tr>\n",
       "      <th>Workspace Name</th>\n",
       "      <td>workshop</td>\n",
       "    </tr>\n",
       "    <tr>\n",
       "      <th>Resource Group</th>\n",
       "      <td>workshop-rg</td>\n",
       "    </tr>\n",
       "    <tr>\n",
       "      <th>Location</th>\n",
       "      <td>westeurope</td>\n",
       "    </tr>\n",
       "    <tr>\n",
       "      <th>Project Directory</th>\n",
       "      <td>./sample_projects/automltitanicsdk</td>\n",
       "    </tr>\n",
       "    <tr>\n",
       "      <th>Experiment Name</th>\n",
       "      <td>AutoMLTitanicSDK</td>\n",
       "    </tr>\n",
       "  </tbody>\n",
       "</table>\n",
       "</div>"
      ],
      "text/plain": [
       "                                                            \n",
       "Version Azure ML service  1.12.0                            \n",
       "Workspace Name            workshop                          \n",
       "Resource Group            workshop-rg                       \n",
       "Location                  westeurope                        \n",
       "Project Directory         ./sample_projects/automltitanicsdk\n",
       "Experiment Name           AutoMLTitanicSDK                  "
      ]
     },
     "execution_count": 106,
     "metadata": {},
     "output_type": "execute_result"
    }
   ],
   "source": [
    "experiment = Experiment(ws, experiment_name)\n",
    "\n",
    "output = {}\n",
    "output['Version Azure ML service'] = azureml.core.VERSION\n",
    "output['Workspace Name'] = ws.name\n",
    "output['Resource Group'] = ws.resource_group\n",
    "output['Location'] = ws.location\n",
    "output['Project Directory'] = project_folder\n",
    "output['Experiment Name'] = experiment.name\n",
    "pd.set_option('display.max_colwidth', -1)\n",
    "pd.DataFrame(data = output, index = ['']).T"
   ]
  },
  {
   "cell_type": "markdown",
   "metadata": {},
   "source": [
    "### 3.3 AutoML avec Azure ML service"
   ]
  },
  {
   "cell_type": "markdown",
   "metadata": {},
   "source": [
    "### Les principes de l'autoML"
   ]
  },
  {
   "cell_type": "markdown",
   "metadata": {},
   "source": [
    " https://docs.microsoft.com/en-us/azure/machine-learning/service/concept-automated-ml"
   ]
  },
  {
   "cell_type": "markdown",
   "metadata": {},
   "source": [
    "### Aide en ligne AutoML avec Azure ML service\n",
    "\n",
    "https://docs.microsoft.com/en-us/azure/machine-learning/service/how-to-configure-auto-train"
   ]
  },
  {
   "cell_type": "markdown",
   "metadata": {},
   "source": [
    "### Paramétrage AutoML"
   ]
  },
  {
   "cell_type": "code",
   "execution_count": 107,
   "metadata": {},
   "outputs": [],
   "source": [
    "automl_settings = {\n",
    "    \"iteration_timeout_minutes\" : 2,\n",
    "    \"experiment_timeout_minutes\" : 15,\n",
    "    \"iterations\" : 10,                  \n",
    "    \"primary_metric\" : 'AUC_weighted',\n",
    "    \"enable_early_stopping\" : \"True\",\n",
    "    \"verbosity\" : logging.INFO,\n",
    "    \"enable_voting_ensemble\":\"False\",     # Pas de voting\n",
    "    \"enable_stack_ensemble\":\"False\"       # Pas d'ensemble\n",
    "    }"
   ]
  },
  {
   "cell_type": "code",
   "execution_count": 108,
   "metadata": {},
   "outputs": [
    {
     "name": "stderr",
     "output_type": "stream",
     "text": [
      "WARNING - The AutoMLConfig parameters, X and y, will soon be deprecated. Please refer to our documentation for the latest interface: https://aka.ms/AutoMLConfig\n"
     ]
    }
   ],
   "source": [
    "from azureml.train.automl import AutoMLConfig\n",
    "\n",
    "automated_ml_config = AutoMLConfig(task = 'classification',\n",
    "                             debug_log = 'automated_ml_errors.log',\n",
    "                             path = project_folder,\n",
    "                             model_explainability=True, # Explanibility du meilleur modèle\n",
    "                             X = X_train.values,\n",
    "                             y = y_train.values.flatten(),\n",
    "                             X_valid = X_test.values,\n",
    "                             y_valid = y_test.values.flatten(),\n",
    "                             **automl_settings)"
   ]
  },
  {
   "cell_type": "markdown",
   "metadata": {},
   "source": [
    "> Liste des modèles disponibles : https://docs.microsoft.com/en-us/azure/machine-learning/service/how-to-configure-auto-train"
   ]
  },
  {
   "cell_type": "markdown",
   "metadata": {},
   "source": [
    "### Exécution de la recherche du meilleur modèle via Azure ML AutoML"
   ]
  },
  {
   "cell_type": "code",
   "execution_count": 109,
   "metadata": {},
   "outputs": [
    {
     "name": "stdout",
     "output_type": "stream",
     "text": [
      "Running on local machine\n",
      "Parent Run ID: AutoML_1a16a5a7-f434-4d8f-b0a0-c37d5f9a934c\n",
      "\n",
      "Current status: DatasetEvaluation. Gathering dataset statistics.\n",
      "Current status: FeaturesGeneration. Generating features for the dataset.\n",
      "Current status: DatasetFeaturization. Beginning to fit featurizers and featurize the dataset.\n",
      "Current status: DatasetFeaturizationCompleted. Completed fit featurizers and featurizing the dataset.\n",
      "\n",
      "****************************************************************************************************\n",
      "DATA GUARDRAILS: \n",
      "\n",
      "TYPE:         Class balancing detection\n",
      "STATUS:       PASSED\n",
      "DESCRIPTION:  Your inputs were analyzed, and all classes are balanced in your training data.\n",
      "              Learn more about imbalanced data: https://aka.ms/AutomatedMLImbalancedData\n",
      "\n",
      "****************************************************************************************************\n",
      "\n",
      "TYPE:         Missing feature values imputation\n",
      "STATUS:       PASSED\n",
      "DESCRIPTION:  No feature missing values were detected in the training data.\n",
      "              Learn more about missing value imputation: https://aka.ms/AutomatedMLFeaturization\n",
      "\n",
      "****************************************************************************************************\n",
      "\n",
      "TYPE:         High cardinality feature detection\n",
      "STATUS:       PASSED\n",
      "DESCRIPTION:  Your inputs were analyzed, and no high cardinality features were detected.\n",
      "              Learn more about high cardinality feature handling: https://aka.ms/AutomatedMLFeaturization\n",
      "\n",
      "****************************************************************************************************\n",
      "Current status: ModelSelection. Beginning model selection.\n",
      "\n",
      "****************************************************************************************************\n",
      "ITERATION: The iteration being evaluated.\n",
      "PIPELINE: A summary description of the pipeline being evaluated.\n",
      "DURATION: Time taken for the current iteration.\n",
      "METRIC: The result of computing score on the fitted pipeline.\n",
      "BEST: The best observed score thus far.\n",
      "****************************************************************************************************\n",
      "\n",
      " ITERATION   PIPELINE                                       DURATION      METRIC      BEST\n",
      "         0   MaxAbsScaler LightGBM                          0:00:12       0.8544    0.8544\n",
      "         1   MaxAbsScaler XGBoostClassifier                 0:00:12       0.8709    0.8709\n",
      "         2   MaxAbsScaler RandomForest                      0:00:11       0.8378    0.8709\n",
      "         3   MaxAbsScaler SGD                               0:00:13       0.8769    0.8769\n",
      "         4   MaxAbsScaler SGD                               0:00:18       0.8589    0.8769\n",
      "         5   MaxAbsScaler ExtremeRandomTrees                0:00:12       0.8386    0.8769\n",
      "         6   MaxAbsScaler ExtremeRandomTrees                0:00:12       0.8649    0.8769\n",
      "         7   MaxAbsScaler SGD                               0:00:13       0.8694    0.8769\n",
      "         8   MaxAbsScaler RandomForest                      0:00:18       0.8866    0.8866\n",
      "         9   MaxAbsScaler SGD                               0:00:17       0.8799    0.8866\n",
      "****************************************************************************************************\n",
      "Current status: BestRunExplainModel. Best run model explanations started\n",
      "Current status: ModelExplanationDataSetSetup. Model explanations data setup completed\n",
      "Current status: PickSurrogateModel. Choosing LightGBM as the surrogate model for explanations\n",
      "Current status: EngineeredFeatureExplanations. Computation of engineered features started\n",
      "Current status: EngineeredFeatureExplanations. Computation of engineered features completed\n",
      "Current status: BestRunExplainModel. Best run model explanations completed\n",
      "****************************************************************************************************\n"
     ]
    }
   ],
   "source": [
    "from azureml.core.experiment import Experiment\n",
    "experiment=Experiment(ws, experiment_name)\n",
    "local_run = experiment.submit(automated_ml_config, show_output=True)"
   ]
  },
  {
   "cell_type": "markdown",
   "metadata": {},
   "source": [
    "### Visualisation des itérations depuis le portail Azure :"
   ]
  },
  {
   "cell_type": "code",
   "execution_count": 110,
   "metadata": {},
   "outputs": [
    {
     "data": {
      "text/html": [
       "<table style=\"width:100%\"><tr><th>Experiment</th><th>Id</th><th>Type</th><th>Status</th><th>Details Page</th><th>Docs Page</th></tr><tr><td>AutoMLTitanicSDK</td><td>AutoML_1a16a5a7-f434-4d8f-b0a0-c37d5f9a934c</td><td>automl</td><td>Completed</td><td><a href=\"https://ml.azure.com/experiments/AutoMLTitanicSDK/runs/AutoML_1a16a5a7-f434-4d8f-b0a0-c37d5f9a934c?wsid=/subscriptions/70b8f39e-8863-49f7-b6ba-34a80799550c/resourcegroups/workshop-rg/workspaces/workshop\" target=\"_blank\" rel=\"noopener\">Link to Azure Machine Learning studio</a></td><td><a href=\"https://docs.microsoft.com/en-us/python/api/overview/azure/ml/intro?view=azure-ml-py\" target=\"_blank\" rel=\"noopener\">Link to Documentation</a></td></tr></table>"
      ],
      "text/plain": [
       "Run(Experiment: AutoMLTitanicSDK,\n",
       "Id: AutoML_1a16a5a7-f434-4d8f-b0a0-c37d5f9a934c,\n",
       "Type: automl,\n",
       "Status: Completed)"
      ]
     },
     "execution_count": 110,
     "metadata": {},
     "output_type": "execute_result"
    }
   ],
   "source": [
    "local_run"
   ]
  },
  {
   "cell_type": "markdown",
   "metadata": {},
   "source": [
    "### Widget AutoML"
   ]
  },
  {
   "cell_type": "code",
   "execution_count": 111,
   "metadata": {},
   "outputs": [
    {
     "data": {
      "application/vnd.jupyter.widget-view+json": {
       "model_id": "7116255ec5f74d66a8a755196e53eaf1",
       "version_major": 2,
       "version_minor": 0
      },
      "text/plain": [
       "_AutoMLWidget(widget_settings={'childWidgetDisplay': 'popup', 'send_telemetry': False, 'log_level': 'INFO', 's…"
      ]
     },
     "metadata": {},
     "output_type": "display_data"
    },
    {
     "data": {
      "application/aml.mini.widget.v1": "{\"status\": \"Completed\", \"workbench_run_details_uri\": \"https://ml.azure.com/experiments/AutoMLTitanicSDK/runs/AutoML_1a16a5a7-f434-4d8f-b0a0-c37d5f9a934c?wsid=/subscriptions/70b8f39e-8863-49f7-b6ba-34a80799550c/resourcegroups/workshop-rg/workspaces/workshop\", \"run_id\": \"AutoML_1a16a5a7-f434-4d8f-b0a0-c37d5f9a934c\", \"run_properties\": {\"run_id\": \"AutoML_1a16a5a7-f434-4d8f-b0a0-c37d5f9a934c\", \"created_utc\": \"2020-08-27T13:08:10.882819Z\", \"properties\": {\"num_iterations\": \"10\", \"training_type\": \"TrainFull\", \"acquisition_function\": \"EI\", \"primary_metric\": \"AUC_weighted\", \"train_split\": \"0\", \"acquisition_parameter\": \"0\", \"num_cross_validation\": null, \"target\": \"local\", \"AMLSettingsJsonString\": \"{\\\"path\\\":null,\\\"name\\\":\\\"AutoMLTitanicSDK\\\",\\\"subscription_id\\\":\\\"70b8f39e-8863-49f7-b6ba-34a80799550c\\\",\\\"resource_group\\\":\\\"workshop-rg\\\",\\\"workspace_name\\\":\\\"workshop\\\",\\\"region\\\":\\\"westeurope\\\",\\\"compute_target\\\":\\\"local\\\",\\\"spark_service\\\":null,\\\"azure_service\\\":\\\"Microsoft.AzureNotebookVM\\\",\\\"_local_managed_run_id\\\":null,\\\"many_models\\\":false,\\\"iterations\\\":10,\\\"primary_metric\\\":\\\"AUC_weighted\\\",\\\"task_type\\\":\\\"classification\\\",\\\"data_script\\\":null,\\\"validation_size\\\":0.0,\\\"n_cross_validations\\\":null,\\\"y_min\\\":null,\\\"y_max\\\":null,\\\"num_classes\\\":2,\\\"featurization\\\":\\\"auto\\\",\\\"_ignore_package_version_incompatibilities\\\":false,\\\"is_timeseries\\\":false,\\\"max_cores_per_iteration\\\":1,\\\"max_concurrent_iterations\\\":1,\\\"iteration_timeout_minutes\\\":2,\\\"mem_in_mb\\\":null,\\\"enforce_time_on_windows\\\":false,\\\"experiment_timeout_minutes\\\":15,\\\"experiment_exit_score\\\":null,\\\"whitelist_models\\\":null,\\\"blacklist_algos\\\":[\\\"TensorFlowLinearClassifier\\\"],\\\"supported_models\\\":[\\\"AveragedPerceptronClassifier\\\",\\\"XGBoostClassifier\\\",\\\"GradientBoosting\\\",\\\"SGD\\\",\\\"ExtremeRandomTrees\\\",\\\"TensorFlowDNN\\\",\\\"TensorFlowLinearClassifier\\\",\\\"BernoulliNaiveBayes\\\",\\\"DecisionTree\\\",\\\"LightGBM\\\",\\\"MultinomialNaiveBayes\\\",\\\"SVM\\\",\\\"LinearSVM\\\",\\\"RandomForest\\\",\\\"KNN\\\",\\\"LogisticRegression\\\"],\\\"auto_blacklist\\\":true,\\\"blacklist_samples_reached\\\":false,\\\"exclude_nan_labels\\\":true,\\\"verbosity\\\":20,\\\"_debug_log\\\":\\\"automated_ml_errors.log\\\",\\\"show_warnings\\\":false,\\\"model_explainability\\\":true,\\\"service_url\\\":null,\\\"sdk_url\\\":null,\\\"sdk_packages\\\":null,\\\"enable_onnx_compatible_models\\\":false,\\\"enable_split_onnx_featurizer_estimator_models\\\":false,\\\"vm_type\\\":null,\\\"telemetry_verbosity\\\":20,\\\"send_telemetry\\\":true,\\\"enable_dnn\\\":false,\\\"force_text_dnn\\\":false,\\\"enable_feature_sweeping\\\":true,\\\"enable_early_stopping\\\":\\\"True\\\",\\\"early_stopping_n_iters\\\":10,\\\"metrics\\\":null,\\\"enable_ensembling\\\":\\\"False\\\",\\\"enable_stack_ensembling\\\":\\\"False\\\",\\\"ensemble_iterations\\\":10,\\\"enable_tf\\\":false,\\\"enable_subsampling\\\":false,\\\"subsample_seed\\\":null,\\\"enable_nimbusml\\\":false,\\\"enable_streaming\\\":false,\\\"force_streaming\\\":false,\\\"track_child_runs\\\":true,\\\"label_column_name\\\":null,\\\"weight_column_name\\\":null,\\\"cv_split_column_names\\\":null,\\\"enable_local_managed\\\":false,\\\"cost_mode\\\":1,\\\"lag_length\\\":0,\\\"metric_operation\\\":\\\"maximize\\\",\\\"preprocess\\\":true,\\\"scenario\\\":\\\"SDK-Compatible\\\"}\", \"DataPrepJsonString\": null, \"EnableSubsampling\": \"False\", \"runTemplate\": \"AutoML\", \"azureml.runsource\": \"automl\", \"display_task_type\": \"classification\", \"dependencies_versions\": \"{\\\"azureml-widgets\\\": \\\"1.12.0\\\", \\\"azureml-train\\\": \\\"1.12.0\\\", \\\"azureml-train-restclients-hyperdrive\\\": \\\"1.12.0\\\", \\\"azureml-train-core\\\": \\\"1.12.0\\\", \\\"azureml-train-automl\\\": \\\"1.12.0\\\", \\\"azureml-train-automl-runtime\\\": \\\"1.12.0.post1\\\", \\\"azureml-train-automl-client\\\": \\\"1.12.0.post1\\\", \\\"azureml-tensorboard\\\": \\\"1.12.0\\\", \\\"azureml-telemetry\\\": \\\"1.12.0\\\", \\\"azureml-sdk\\\": \\\"1.12.0\\\", \\\"azureml-samples\\\": \\\"0+unknown\\\", \\\"azureml-pipeline\\\": \\\"1.12.0\\\", \\\"azureml-pipeline-steps\\\": \\\"1.12.0\\\", \\\"azureml-pipeline-core\\\": \\\"1.12.0\\\", \\\"azureml-opendatasets\\\": \\\"1.11.0\\\", \\\"azureml-monitoring\\\": \\\"0.1.0a21\\\", \\\"azureml-model-management-sdk\\\": \\\"1.0.1b6.post1\\\", \\\"azureml-mlflow\\\": \\\"1.11.0\\\", \\\"azureml-interpret\\\": \\\"1.12.0\\\", \\\"azureml-explain-model\\\": \\\"1.12.0\\\", \\\"azureml-defaults\\\": \\\"1.12.0\\\", \\\"azureml-dataset-runtime\\\": \\\"1.12.0\\\", \\\"azureml-dataprep\\\": \\\"2.0.2\\\", \\\"azureml-dataprep-native\\\": \\\"14.2.1\\\", \\\"azureml-datadrift\\\": \\\"1.11.0\\\", \\\"azureml-core\\\": \\\"1.12.0.post1\\\", \\\"azureml-contrib-services\\\": \\\"1.12.0\\\", \\\"azureml-contrib-server\\\": \\\"1.12.0\\\", \\\"azureml-contrib-reinforcementlearning\\\": \\\"1.11.0\\\", \\\"azureml-contrib-pipeline-steps\\\": \\\"1.12.0\\\", \\\"azureml-contrib-notebook\\\": \\\"1.12.0\\\", \\\"azureml-contrib-interpret\\\": \\\"1.11.0\\\", \\\"azureml-contrib-gbdt\\\": \\\"1.11.0\\\", \\\"azureml-contrib-fairness\\\": \\\"1.11.0\\\", \\\"azureml-contrib-dataset\\\": \\\"1.11.0\\\", \\\"azureml-cli-common\\\": \\\"1.11.0\\\", \\\"azureml-automl-runtime\\\": \\\"1.12.0\\\", \\\"azureml-automl-core\\\": \\\"1.12.0\\\", \\\"azureml-accel-models\\\": \\\"1.11.0\\\"}\", \"ClientSdkVersion\": \"1.12.0\", \"ClientType\": \"SDK\", \"environment_cpu_name\": \"AzureML-AutoML\", \"environment_cpu_version\": \"32\", \"environment_gpu_name\": \"AzureML-AutoML-GPU\", \"environment_gpu_version\": \"21\", \"root_attribution\": \"automl\", \"attribution\": \"AutoML\", \"CancelUri\": \"https://westeurope.experiments.azureml.net/jasmine/v1.0/subscriptions/70b8f39e-8863-49f7-b6ba-34a80799550c/resourceGroups/workshop-rg/providers/Microsoft.MachineLearningServices/workspaces/workshop/experiment/AutoMLTitanicSDK/cancel/AutoML_1a16a5a7-f434-4d8f-b0a0-c37d5f9a934c\", \"Orchestrator\": \"AutoML\", \"_azureml.ComputeTargetType\": \"local\", \"ProblemInfoJsonString\": \"{\\\"dataset_num_categorical\\\": 0, \\\"is_sparse\\\": true, \\\"subsampling\\\": false, \\\"dataset_classes\\\": 2, \\\"dataset_features\\\": 21, \\\"dataset_samples\\\": 128, \\\"single_frequency_class_detected\\\": false}\", \"feature_skus\": \"automatedml_sdk_guardrails\"}, \"tags\": {\"model_explain_run\": \"best_run\", \"azureml.automlComponent\": \"AutoML\", \"model_explain_best_run_child_id\": \"AutoML_1a16a5a7-f434-4d8f-b0a0-c37d5f9a934c_8\", \"best_score\": \"0.8866366366366367\", \"best_pipeline\": \"RandomForest\", \"automl_best_child_run_id\": \"AutoML_1a16a5a7-f434-4d8f-b0a0-c37d5f9a934c_8\"}, \"end_time_utc\": \"2020-08-27T13:10:57.066195Z\", \"status\": \"Completed\", \"log_files\": {}, \"log_groups\": [], \"run_duration\": \"0:02:46\"}, \"child_runs\": [{\"run_id\": \"AutoML_1a16a5a7-f434-4d8f-b0a0-c37d5f9a934c_0\", \"run_number\": 23, \"metric\": null, \"status\": \"Completed\", \"run_type\": null, \"training_percent\": \"100\", \"start_time\": \"2020-08-27T13:08:23.670943Z\", \"end_time\": \"2020-08-27T13:08:35.15411Z\", \"created_time\": \"2020-08-27T13:08:23.457287Z\", \"created_time_dt\": \"2020-08-27T13:08:23.457287Z\", \"duration\": \"0:00:11\", \"iteration\": \"0\", \"goal\": \"AUC_weighted_max\", \"run_name\": \"MaxAbsScaler, LightGBM\", \"run_properties\": \"copy=True\", \"primary_metric\": 0.85435435, \"best_metric\": 0.85435435}, {\"run_id\": \"AutoML_1a16a5a7-f434-4d8f-b0a0-c37d5f9a934c_1\", \"run_number\": 24, \"metric\": null, \"status\": \"Completed\", \"run_type\": null, \"training_percent\": \"100\", \"start_time\": \"2020-08-27T13:08:35.820544Z\", \"end_time\": \"2020-08-27T13:08:48.0609Z\", \"created_time\": \"2020-08-27T13:08:35.64388Z\", \"created_time_dt\": \"2020-08-27T13:08:35.64388Z\", \"duration\": \"0:00:12\", \"iteration\": \"1\", \"goal\": \"AUC_weighted_max\", \"run_name\": \"MaxAbsScaler, XGBoostClassifier\", \"run_properties\": \"copy=True\", \"primary_metric\": 0.87087087, \"best_metric\": 0.87087087}, {\"run_id\": \"AutoML_1a16a5a7-f434-4d8f-b0a0-c37d5f9a934c_2\", \"run_number\": 25, \"metric\": null, \"status\": \"Completed\", \"run_type\": null, \"training_percent\": \"100\", \"start_time\": \"2020-08-27T13:08:48.932511Z\", \"end_time\": \"2020-08-27T13:09:00.097417Z\", \"created_time\": \"2020-08-27T13:08:48.778606Z\", \"created_time_dt\": \"2020-08-27T13:08:48.778606Z\", \"duration\": \"0:00:11\", \"iteration\": \"2\", \"goal\": \"AUC_weighted_max\", \"run_name\": \"MaxAbsScaler, RandomForest\", \"run_properties\": \"copy=True\", \"primary_metric\": 0.83783784, \"best_metric\": 0.87087087}, {\"run_id\": \"AutoML_1a16a5a7-f434-4d8f-b0a0-c37d5f9a934c_3\", \"run_number\": 26, \"metric\": null, \"status\": \"Completed\", \"run_type\": null, \"training_percent\": \"100\", \"start_time\": \"2020-08-27T13:09:02.247443Z\", \"end_time\": \"2020-08-27T13:09:13.431838Z\", \"created_time\": \"2020-08-27T13:09:02.110794Z\", \"created_time_dt\": \"2020-08-27T13:09:02.110794Z\", \"duration\": \"0:00:11\", \"iteration\": \"3\", \"goal\": \"AUC_weighted_max\", \"run_name\": \"MaxAbsScaler, SGD\", \"run_properties\": \"copy=True\", \"primary_metric\": 0.87687688, \"best_metric\": 0.87687688}, {\"run_id\": \"AutoML_1a16a5a7-f434-4d8f-b0a0-c37d5f9a934c_4\", \"run_number\": 27, \"metric\": null, \"status\": \"Completed\", \"run_type\": null, \"training_percent\": \"100\", \"start_time\": \"2020-08-27T13:09:15.284761Z\", \"end_time\": \"2020-08-27T13:09:31.608222Z\", \"created_time\": \"2020-08-27T13:09:15.132967Z\", \"created_time_dt\": \"2020-08-27T13:09:15.132967Z\", \"duration\": \"0:00:16\", \"iteration\": \"4\", \"goal\": \"AUC_weighted_max\", \"run_name\": \"MaxAbsScaler, SGD\", \"run_properties\": \"copy=True\", \"primary_metric\": 0.85885886, \"best_metric\": 0.87687688}, {\"run_id\": \"AutoML_1a16a5a7-f434-4d8f-b0a0-c37d5f9a934c_5\", \"run_number\": 28, \"metric\": null, \"status\": \"Completed\", \"run_type\": null, \"training_percent\": \"100\", \"start_time\": \"2020-08-27T13:09:33.556527Z\", \"end_time\": \"2020-08-27T13:09:44.566904Z\", \"created_time\": \"2020-08-27T13:09:33.382419Z\", \"created_time_dt\": \"2020-08-27T13:09:33.382419Z\", \"duration\": \"0:00:11\", \"iteration\": \"5\", \"goal\": \"AUC_weighted_max\", \"run_name\": \"MaxAbsScaler, ExtremeRandomTrees\", \"run_properties\": \"copy=True\", \"primary_metric\": 0.83858859, \"best_metric\": 0.87687688}, {\"run_id\": \"AutoML_1a16a5a7-f434-4d8f-b0a0-c37d5f9a934c_6\", \"run_number\": 29, \"metric\": null, \"status\": \"Completed\", \"run_type\": null, \"training_percent\": \"100\", \"start_time\": \"2020-08-27T13:09:46.446199Z\", \"end_time\": \"2020-08-27T13:09:57.459457Z\", \"created_time\": \"2020-08-27T13:09:46.296185Z\", \"created_time_dt\": \"2020-08-27T13:09:46.296185Z\", \"duration\": \"0:00:11\", \"iteration\": \"6\", \"goal\": \"AUC_weighted_max\", \"run_name\": \"MaxAbsScaler, ExtremeRandomTrees\", \"run_properties\": \"copy=True\", \"primary_metric\": 0.86486486, \"best_metric\": 0.87687688}, {\"run_id\": \"AutoML_1a16a5a7-f434-4d8f-b0a0-c37d5f9a934c_7\", \"run_number\": 30, \"metric\": null, \"status\": \"Completed\", \"run_type\": null, \"training_percent\": \"100\", \"start_time\": \"2020-08-27T13:09:59.210373Z\", \"end_time\": \"2020-08-27T13:10:10.441288Z\", \"created_time\": \"2020-08-27T13:09:59.079569Z\", \"created_time_dt\": \"2020-08-27T13:09:59.079569Z\", \"duration\": \"0:00:11\", \"iteration\": \"7\", \"goal\": \"AUC_weighted_max\", \"run_name\": \"MaxAbsScaler, SGD\", \"run_properties\": \"copy=True\", \"primary_metric\": 0.86936937, \"best_metric\": 0.87687688}, {\"run_id\": \"AutoML_1a16a5a7-f434-4d8f-b0a0-c37d5f9a934c_8\", \"run_number\": 31, \"metric\": null, \"status\": \"Completed\", \"run_type\": null, \"training_percent\": \"100\", \"start_time\": \"2020-08-27T13:10:12.220408Z\", \"end_time\": \"2020-08-27T13:10:28.824562Z\", \"created_time\": \"2020-08-27T13:10:12.006129Z\", \"created_time_dt\": \"2020-08-27T13:10:12.006129Z\", \"duration\": \"0:00:16\", \"iteration\": \"8\", \"goal\": \"AUC_weighted_max\", \"run_name\": \"MaxAbsScaler, RandomForest\", \"run_properties\": \"copy=True\", \"primary_metric\": 0.88663664, \"best_metric\": 0.88663664}, {\"run_id\": \"AutoML_1a16a5a7-f434-4d8f-b0a0-c37d5f9a934c_9\", \"run_number\": 32, \"metric\": null, \"status\": \"Completed\", \"run_type\": null, \"training_percent\": \"100\", \"start_time\": \"2020-08-27T13:10:30.430008Z\", \"end_time\": \"2020-08-27T13:10:46.723969Z\", \"created_time\": \"2020-08-27T13:10:30.287508Z\", \"created_time_dt\": \"2020-08-27T13:10:30.287508Z\", \"duration\": \"0:00:16\", \"iteration\": \"9\", \"goal\": \"AUC_weighted_max\", \"run_name\": \"MaxAbsScaler, SGD\", \"run_properties\": \"copy=True\", \"primary_metric\": 0.87987988, \"best_metric\": 0.88663664}], \"children_metrics\": {\"categories\": [0], \"series\": {\"weighted_accuracy\": [{\"categories\": [\"0\", \"1\", \"2\", \"3\", \"4\", \"5\", \"6\", \"7\", \"8\", \"9\"], \"mode\": \"markers\", \"name\": \"weighted_accuracy\", \"stepped\": false, \"type\": \"scatter\", \"data\": [0.7956290608387477, 0.8168930891907856, 0.828706438275251, 0.7271116361488482, 0.7495569994093326, 0.717660956881276, 0.7501476668635558, 0.861193148257531, 0.8281157708210278, 0.7725930301240401]}, {\"categories\": [\"0\", \"1\", \"2\", \"3\", \"4\", \"5\", \"6\", \"7\", \"8\", \"9\"], \"mode\": \"lines\", \"name\": \"weighted_accuracy_max\", \"stepped\": true, \"type\": \"scatter\", \"data\": [0.7956290608387477, 0.8168930891907856, 0.828706438275251, 0.828706438275251, 0.828706438275251, 0.828706438275251, 0.828706438275251, 0.861193148257531, 0.861193148257531, 0.861193148257531]}], \"f1_score_micro\": [{\"categories\": [\"0\", \"1\", \"2\", \"3\", \"4\", \"5\", \"6\", \"7\", \"8\", \"9\"], \"mode\": \"markers\", \"name\": \"f1_score_micro\", \"stepped\": false, \"type\": \"scatter\", \"data\": [0.7272727272727273, 0.7636363636363637, 0.7454545454545455, 0.7636363636363637, 0.7636363636363637, 0.7090909090909091, 0.7454545454545455, 0.7818181818181819, 0.7636363636363637, 0.7454545454545455]}, {\"categories\": [\"0\", \"1\", \"2\", \"3\", \"4\", \"5\", \"6\", \"7\", \"8\", \"9\"], \"mode\": \"lines\", \"name\": \"f1_score_micro_max\", \"stepped\": true, \"type\": \"scatter\", \"data\": [0.7272727272727273, 0.7636363636363637, 0.7636363636363637, 0.7636363636363637, 0.7636363636363637, 0.7636363636363637, 0.7636363636363637, 0.7818181818181819, 0.7818181818181819, 0.7818181818181819]}], \"average_precision_score_weighted\": [{\"categories\": [\"0\", \"1\", \"2\", \"3\", \"4\", \"5\", \"6\", \"7\", \"8\", \"9\"], \"mode\": \"markers\", \"name\": \"average_precision_score_weighted\", \"stepped\": false, \"type\": \"scatter\", \"data\": [0.8622663272306259, 0.880899750219334, 0.8612107625198333, 0.8880491776041262, 0.8557757464905501, 0.8489225820382036, 0.869439815192931, 0.8761817373084121, 0.8978862880884544, 0.8976432773424534]}, {\"categories\": [\"0\", \"1\", \"2\", \"3\", \"4\", \"5\", \"6\", \"7\", \"8\", \"9\"], \"mode\": \"lines\", \"name\": \"average_precision_score_weighted_max\", \"stepped\": true, \"type\": \"scatter\", \"data\": [0.8622663272306259, 0.880899750219334, 0.880899750219334, 0.8880491776041262, 0.8880491776041262, 0.8880491776041262, 0.8880491776041262, 0.8880491776041262, 0.8978862880884544, 0.8978862880884544]}], \"recall_score_weighted\": [{\"categories\": [\"0\", \"1\", \"2\", \"3\", \"4\", \"5\", \"6\", \"7\", \"8\", \"9\"], \"mode\": \"markers\", \"name\": \"recall_score_weighted\", \"stepped\": false, \"type\": \"scatter\", \"data\": [0.7272727272727273, 0.7636363636363637, 0.7454545454545455, 0.7636363636363637, 0.7636363636363637, 0.7090909090909091, 0.7454545454545455, 0.7818181818181819, 0.7636363636363637, 0.7454545454545455]}, {\"categories\": [\"0\", \"1\", \"2\", \"3\", \"4\", \"5\", \"6\", \"7\", \"8\", \"9\"], \"mode\": \"lines\", \"name\": \"recall_score_weighted_max\", \"stepped\": true, \"type\": \"scatter\", \"data\": [0.7272727272727273, 0.7636363636363637, 0.7636363636363637, 0.7636363636363637, 0.7636363636363637, 0.7636363636363637, 0.7636363636363637, 0.7818181818181819, 0.7818181818181819, 0.7818181818181819]}], \"recall_score_macro\": [{\"categories\": [\"0\", \"1\", \"2\", \"3\", \"4\", \"5\", \"6\", \"7\", \"8\", \"9\"], \"mode\": \"markers\", \"name\": \"recall_score_macro\", \"stepped\": false, \"type\": \"scatter\", \"data\": [0.6403903903903904, 0.6959459459459459, 0.6396396396396397, 0.81006006006006, 0.7815315315315315, 0.6981981981981982, 0.7394894894894894, 0.6809309309309309, 0.6816816816816818, 0.7109609609609611]}, {\"categories\": [\"0\", \"1\", \"2\", \"3\", \"4\", \"5\", \"6\", \"7\", \"8\", \"9\"], \"mode\": \"lines\", \"name\": \"recall_score_macro_max\", \"stepped\": true, \"type\": \"scatter\", \"data\": [0.6403903903903904, 0.6959459459459459, 0.6959459459459459, 0.81006006006006, 0.81006006006006, 0.81006006006006, 0.81006006006006, 0.81006006006006, 0.81006006006006, 0.81006006006006]}], \"AUC_micro\": [{\"categories\": [\"0\", \"1\", \"2\", \"3\", \"4\", \"5\", \"6\", \"7\", \"8\", \"9\"], \"mode\": \"markers\", \"name\": \"AUC_micro\", \"stepped\": false, \"type\": \"scatter\", \"data\": [0.8641322314049587, 0.8806611570247934, 0.8644628099173554, 0.8773553719008264, 0.8786776859504132, 0.8555371900826446, 0.889586776859504, 0.8618181818181818, 0.8960330578512397, 0.892892561983471]}, {\"categories\": [\"0\", \"1\", \"2\", \"3\", \"4\", \"5\", \"6\", \"7\", \"8\", \"9\"], \"mode\": \"lines\", \"name\": \"AUC_micro_max\", \"stepped\": true, \"type\": \"scatter\", \"data\": [0.8641322314049587, 0.8806611570247934, 0.8806611570247934, 0.8806611570247934, 0.8806611570247934, 0.8806611570247934, 0.889586776859504, 0.889586776859504, 0.8960330578512397, 0.8960330578512397]}], \"matthews_correlation\": [{\"categories\": [\"0\", \"1\", \"2\", \"3\", \"4\", \"5\", \"6\", \"7\", \"8\", \"9\"], \"mode\": \"markers\", \"name\": \"matthews_correlation\", \"stepped\": false, \"type\": \"scatter\", \"data\": [0.32936830977415466, 0.43281975155130953, 0.37169088172615544, 0.582810361313287, 0.5305954499725111, 0.3796631983009996, 0.4587596979470412, 0.48159947578496487, 0.4262413420606707, 0.4219219219219219]}, {\"categories\": [\"0\", \"1\", \"2\", \"3\", \"4\", \"5\", \"6\", \"7\", \"8\", \"9\"], \"mode\": \"lines\", \"name\": \"matthews_correlation_max\", \"stepped\": true, \"type\": \"scatter\", \"data\": [0.32936830977415466, 0.43281975155130953, 0.43281975155130953, 0.582810361313287, 0.582810361313287, 0.582810361313287, 0.582810361313287, 0.582810361313287, 0.582810361313287, 0.582810361313287]}], \"AUC_weighted\": [{\"categories\": [\"0\", \"1\", \"2\", \"3\", \"4\", \"5\", \"6\", \"7\", \"8\", \"9\"], \"mode\": \"markers\", \"name\": \"AUC_weighted\", \"stepped\": false, \"type\": \"scatter\", \"data\": [0.8543543543543545, 0.8708708708708709, 0.8378378378378378, 0.8768768768768769, 0.8588588588588589, 0.8385885885885885, 0.864864864864865, 0.8693693693693694, 0.8866366366366367, 0.8798798798798799]}, {\"categories\": [\"0\", \"1\", \"2\", \"3\", \"4\", \"5\", \"6\", \"7\", \"8\", \"9\"], \"mode\": \"lines\", \"name\": \"AUC_weighted_max\", \"stepped\": true, \"type\": \"scatter\", \"data\": [0.8543543543543545, 0.8708708708708709, 0.8708708708708709, 0.8768768768768769, 0.8768768768768769, 0.8768768768768769, 0.8768768768768769, 0.8768768768768769, 0.8866366366366367, 0.8866366366366367]}], \"precision_score_micro\": [{\"categories\": [\"0\", \"1\", \"2\", \"3\", \"4\", \"5\", \"6\", \"7\", \"8\", \"9\"], \"mode\": \"markers\", \"name\": \"precision_score_micro\", \"stepped\": false, \"type\": \"scatter\", \"data\": [0.7272727272727273, 0.7636363636363637, 0.7454545454545455, 0.7636363636363637, 0.7636363636363637, 0.7090909090909091, 0.7454545454545455, 0.7818181818181819, 0.7636363636363637, 0.7454545454545455]}, {\"categories\": [\"0\", \"1\", \"2\", \"3\", \"4\", \"5\", \"6\", \"7\", \"8\", \"9\"], \"mode\": \"lines\", \"name\": \"precision_score_micro_max\", \"stepped\": true, \"type\": \"scatter\", \"data\": [0.7272727272727273, 0.7636363636363637, 0.7636363636363637, 0.7636363636363637, 0.7636363636363637, 0.7636363636363637, 0.7636363636363637, 0.7818181818181819, 0.7818181818181819, 0.7818181818181819]}], \"precision_score_weighted\": [{\"categories\": [\"0\", \"1\", \"2\", \"3\", \"4\", \"5\", \"6\", \"7\", \"8\", \"9\"], \"mode\": \"markers\", \"name\": \"precision_score_weighted\", \"stepped\": false, \"type\": \"scatter\", \"data\": [0.7128099173553719, 0.7551448551448551, 0.74642166344294, 0.8387026766337111, 0.8018181818181819, 0.7289256198347108, 0.7641873278236915, 0.8016441005802707, 0.7578512396694215, 0.7454545454545455]}, {\"categories\": [\"0\", \"1\", \"2\", \"3\", \"4\", \"5\", \"6\", \"7\", \"8\", \"9\"], \"mode\": \"lines\", \"name\": \"precision_score_weighted_max\", \"stepped\": true, \"type\": \"scatter\", \"data\": [0.7128099173553719, 0.7551448551448551, 0.7551448551448551, 0.8387026766337111, 0.8387026766337111, 0.8387026766337111, 0.8387026766337111, 0.8387026766337111, 0.8387026766337111, 0.8387026766337111]}], \"f1_score_macro\": [{\"categories\": [\"0\", \"1\", \"2\", \"3\", \"4\", \"5\", \"6\", \"7\", \"8\", \"9\"], \"mode\": \"markers\", \"name\": \"f1_score_macro\", \"stepped\": false, \"type\": \"scatter\", \"data\": [0.648786717752235, 0.708044099632503, 0.6474358974358975, 0.7585275244849713, 0.7518222839291913, 0.6857142857142857, 0.7250000000000001, 0.6978021978021978, 0.6956151553852703, 0.7109609609609611]}, {\"categories\": [\"0\", \"1\", \"2\", \"3\", \"4\", \"5\", \"6\", \"7\", \"8\", \"9\"], \"mode\": \"lines\", \"name\": \"f1_score_macro_max\", \"stepped\": true, \"type\": \"scatter\", \"data\": [0.648786717752235, 0.708044099632503, 0.708044099632503, 0.7585275244849713, 0.7585275244849713, 0.7585275244849713, 0.7585275244849713, 0.7585275244849713, 0.7585275244849713, 0.7585275244849713]}], \"average_precision_score_macro\": [{\"categories\": [\"0\", \"1\", \"2\", \"3\", \"4\", \"5\", \"6\", \"7\", \"8\", \"9\"], \"mode\": \"markers\", \"name\": \"average_precision_score_macro\", \"stepped\": false, \"type\": \"scatter\", \"data\": [0.8223300437575366, 0.8477942303846504, 0.8284176162434029, 0.8578180277805416, 0.8120421245751139, 0.806033607769868, 0.8312190592999138, 0.841223231580647, 0.8740169159000355, 0.8722099168692532]}, {\"categories\": [\"0\", \"1\", \"2\", \"3\", \"4\", \"5\", \"6\", \"7\", \"8\", \"9\"], \"mode\": \"lines\", \"name\": \"average_precision_score_macro_max\", \"stepped\": true, \"type\": \"scatter\", \"data\": [0.8223300437575366, 0.8477942303846504, 0.8477942303846504, 0.8578180277805416, 0.8578180277805416, 0.8578180277805416, 0.8578180277805416, 0.8578180277805416, 0.8740169159000355, 0.8740169159000355]}], \"log_loss\": [{\"categories\": [\"0\", \"1\", \"2\", \"3\", \"4\", \"5\", \"6\", \"7\", \"8\", \"9\"], \"mode\": \"markers\", \"name\": \"log_loss\", \"stepped\": false, \"type\": \"scatter\", \"data\": [0.4488874033119399, 0.43719437356042495, 0.4328521585595736, 0.4995891117733376, 0.4228365377607689, 0.42691908734084305, 0.39165293081063823, 0.44423183012561857, 0.3932628851685375, 0.49751466955251866]}, {\"categories\": [\"0\", \"1\", \"2\", \"3\", \"4\", \"5\", \"6\", \"7\", \"8\", \"9\"], \"mode\": \"lines\", \"name\": \"log_loss_min\", \"stepped\": true, \"type\": \"scatter\", \"data\": [0.4488874033119399, 0.43719437356042495, 0.4328521585595736, 0.4328521585595736, 0.4228365377607689, 0.4228365377607689, 0.39165293081063823, 0.39165293081063823, 0.39165293081063823, 0.39165293081063823]}], \"AUC_macro\": [{\"categories\": [\"0\", \"1\", \"2\", \"3\", \"4\", \"5\", \"6\", \"7\", \"8\", \"9\"], \"mode\": \"markers\", \"name\": \"AUC_macro\", \"stepped\": false, \"type\": \"scatter\", \"data\": [0.8543543543543544, 0.8708708708708709, 0.8378378378378378, 0.8768768768768769, 0.8588588588588588, 0.8385885885885885, 0.8648648648648649, 0.8693693693693694, 0.8866366366366367, 0.8798798798798799]}, {\"categories\": [\"0\", \"1\", \"2\", \"3\", \"4\", \"5\", \"6\", \"7\", \"8\", \"9\"], \"mode\": \"lines\", \"name\": \"AUC_macro_max\", \"stepped\": true, \"type\": \"scatter\", \"data\": [0.8543543543543544, 0.8708708708708709, 0.8708708708708709, 0.8768768768768769, 0.8768768768768769, 0.8768768768768769, 0.8768768768768769, 0.8768768768768769, 0.8866366366366367, 0.8866366366366367]}], \"balanced_accuracy\": [{\"categories\": [\"0\", \"1\", \"2\", \"3\", \"4\", \"5\", \"6\", \"7\", \"8\", \"9\"], \"mode\": \"markers\", \"name\": \"balanced_accuracy\", \"stepped\": false, \"type\": \"scatter\", \"data\": [0.6403903903903904, 0.6959459459459459, 0.6396396396396397, 0.81006006006006, 0.7815315315315315, 0.6981981981981982, 0.7394894894894894, 0.6809309309309309, 0.6816816816816818, 0.7109609609609611]}, {\"categories\": [\"0\", \"1\", \"2\", \"3\", \"4\", \"5\", \"6\", \"7\", \"8\", \"9\"], \"mode\": \"lines\", \"name\": \"balanced_accuracy_max\", \"stepped\": true, \"type\": \"scatter\", \"data\": [0.6403903903903904, 0.6959459459459459, 0.6959459459459459, 0.81006006006006, 0.81006006006006, 0.81006006006006, 0.81006006006006, 0.81006006006006, 0.81006006006006, 0.81006006006006]}], \"precision_score_macro\": [{\"categories\": [\"0\", \"1\", \"2\", \"3\", \"4\", \"5\", \"6\", \"7\", \"8\", \"9\"], \"mode\": \"markers\", \"name\": \"precision_score_macro\", \"stepped\": false, \"type\": \"scatter\", \"data\": [0.6931818181818181, 0.739010989010989, 0.7473404255319149, 0.7738726790450928, 0.75, 0.6818181818181819, 0.7196969696969697, 0.8204787234042553, 0.75, 0.7109609609609611]}, {\"categories\": [\"0\", \"1\", \"2\", \"3\", \"4\", \"5\", \"6\", \"7\", \"8\", \"9\"], \"mode\": \"lines\", \"name\": \"precision_score_macro_max\", \"stepped\": true, \"type\": \"scatter\", \"data\": [0.6931818181818181, 0.739010989010989, 0.7473404255319149, 0.7738726790450928, 0.7738726790450928, 0.7738726790450928, 0.7738726790450928, 0.8204787234042553, 0.8204787234042553, 0.8204787234042553]}], \"accuracy\": [{\"categories\": [\"0\", \"1\", \"2\", \"3\", \"4\", \"5\", \"6\", \"7\", \"8\", \"9\"], \"mode\": \"markers\", \"name\": \"accuracy\", \"stepped\": false, \"type\": \"scatter\", \"data\": [0.7272727272727273, 0.7636363636363637, 0.7454545454545455, 0.7636363636363637, 0.7636363636363637, 0.7090909090909091, 0.7454545454545455, 0.7818181818181819, 0.7636363636363637, 0.7454545454545455]}, {\"categories\": [\"0\", \"1\", \"2\", \"3\", \"4\", \"5\", \"6\", \"7\", \"8\", \"9\"], \"mode\": \"lines\", \"name\": \"accuracy_max\", \"stepped\": true, \"type\": \"scatter\", \"data\": [0.7272727272727273, 0.7636363636363637, 0.7636363636363637, 0.7636363636363637, 0.7636363636363637, 0.7636363636363637, 0.7636363636363637, 0.7818181818181819, 0.7818181818181819, 0.7818181818181819]}], \"average_precision_score_micro\": [{\"categories\": [\"0\", \"1\", \"2\", \"3\", \"4\", \"5\", \"6\", \"7\", \"8\", \"9\"], \"mode\": \"markers\", \"name\": \"average_precision_score_micro\", \"stepped\": false, \"type\": \"scatter\", \"data\": [0.8773925023954667, 0.8917686846749081, 0.8754593252426787, 0.8882776848521956, 0.8899804733477157, 0.8718141880823579, 0.900379757727313, 0.8741943226923393, 0.9014232585635678, 0.9042152714296817]}, {\"categories\": [\"0\", \"1\", \"2\", \"3\", \"4\", \"5\", \"6\", \"7\", \"8\", \"9\"], \"mode\": \"lines\", \"name\": \"average_precision_score_micro_max\", \"stepped\": true, \"type\": \"scatter\", \"data\": [0.8773925023954667, 0.8917686846749081, 0.8917686846749081, 0.8917686846749081, 0.8917686846749081, 0.8917686846749081, 0.900379757727313, 0.900379757727313, 0.9014232585635678, 0.9042152714296817]}], \"norm_macro_recall\": [{\"categories\": [\"0\", \"1\", \"2\", \"3\", \"4\", \"5\", \"6\", \"7\", \"8\", \"9\"], \"mode\": \"markers\", \"name\": \"norm_macro_recall\", \"stepped\": false, \"type\": \"scatter\", \"data\": [0.2807807807807807, 0.3918918918918919, 0.2792792792792793, 0.6201201201201201, 0.5630630630630631, 0.39639639639639634, 0.4789789789789789, 0.36186186186186187, 0.3633633633633635, 0.4219219219219221]}, {\"categories\": [\"0\", \"1\", \"2\", \"3\", \"4\", \"5\", \"6\", \"7\", \"8\", \"9\"], \"mode\": \"lines\", \"name\": \"norm_macro_recall_max\", \"stepped\": true, \"type\": \"scatter\", \"data\": [0.2807807807807807, 0.3918918918918919, 0.3918918918918919, 0.6201201201201201, 0.6201201201201201, 0.6201201201201201, 0.6201201201201201, 0.6201201201201201, 0.6201201201201201, 0.6201201201201201]}], \"recall_score_micro\": [{\"categories\": [\"0\", \"1\", \"2\", \"3\", \"4\", \"5\", \"6\", \"7\", \"8\", \"9\"], \"mode\": \"markers\", \"name\": \"recall_score_micro\", \"stepped\": false, \"type\": \"scatter\", \"data\": [0.7272727272727273, 0.7636363636363637, 0.7454545454545455, 0.7636363636363637, 0.7636363636363637, 0.7090909090909091, 0.7454545454545455, 0.7818181818181819, 0.7636363636363637, 0.7454545454545455]}, {\"categories\": [\"0\", \"1\", \"2\", \"3\", \"4\", \"5\", \"6\", \"7\", \"8\", \"9\"], \"mode\": \"lines\", \"name\": \"recall_score_micro_max\", \"stepped\": true, \"type\": \"scatter\", \"data\": [0.7272727272727273, 0.7636363636363637, 0.7636363636363637, 0.7636363636363637, 0.7636363636363637, 0.7636363636363637, 0.7636363636363637, 0.7818181818181819, 0.7818181818181819, 0.7818181818181819]}], \"f1_score_weighted\": [{\"categories\": [\"0\", \"1\", \"2\", \"3\", \"4\", \"5\", \"6\", \"7\", \"8\", \"9\"], \"mode\": \"markers\", \"name\": \"f1_score_weighted\", \"stepped\": false, \"type\": \"scatter\", \"data\": [0.7061418785556716, 0.7520546419688927, 0.7116550116550117, 0.7706610174695282, 0.7705279101322141, 0.7153246753246753, 0.750909090909091, 0.7528471528471528, 0.7453229614149154, 0.7454545454545455]}, {\"categories\": [\"0\", \"1\", \"2\", \"3\", \"4\", \"5\", \"6\", \"7\", \"8\", \"9\"], \"mode\": \"lines\", \"name\": \"f1_score_weighted_max\", \"stepped\": true, \"type\": \"scatter\", \"data\": [0.7061418785556716, 0.7520546419688927, 0.7520546419688927, 0.7706610174695282, 0.7706610174695282, 0.7706610174695282, 0.7706610174695282, 0.7706610174695282, 0.7706610174695282, 0.7706610174695282]}]}, \"metricName\": null, \"primaryMetricName\": \"AUC_weighted\", \"showLegend\": false}, \"run_metrics\": [{\"name\": \"experiment_status\", \"run_id\": \"AutoML_1a16a5a7-f434-4d8f-b0a0-c37d5f9a934c\", \"categories\": [0, 1, 2, 3, 4, 5, 6, 7, 8, 9, 10], \"series\": [{\"data\": [\"DatasetEvaluation\", \"FeaturesGeneration\", \"DatasetFeaturization\", \"DatasetFeaturizationCompleted\", \"ModelSelection\", \"EngineeredFeatureExplanations\", \"BestRunExplainModel\", \"BestRunExplainModel\", \"ModelExplanationDataSetSetup\", \"PickSurrogateModel\", \"EngineeredFeatureExplanations\"]}]}, {\"name\": \"experiment_status_description\", \"run_id\": \"AutoML_1a16a5a7-f434-4d8f-b0a0-c37d5f9a934c\", \"categories\": [0, 1, 2, 3, 4, 5, 6, 7, 8, 9, 10], \"series\": [{\"data\": [\"Gathering dataset statistics.\", \"Generating features for the dataset.\", \"Beginning to fit featurizers and featurize the dataset.\", \"Completed fit featurizers and featurizing the dataset.\", \"Beginning model selection.\", \"Computation of engineered features completed\", \"Best run model explanations completed\", \"Best run model explanations started\", \"Model explanations data setup completed\", \"Choosing LightGBM as the surrogate model for explanations\", \"Computation of engineered features started\"]}]}, {\"name\": \"weighted_accuracy\", \"run_id\": \"AutoML_1a16a5a7-f434-4d8f-b0a0-c37d5f9a934c\", \"categories\": [0], \"series\": [{\"data\": [0.8281157708210278]}]}, {\"name\": \"f1_score_micro\", \"run_id\": \"AutoML_1a16a5a7-f434-4d8f-b0a0-c37d5f9a934c\", \"categories\": [0], \"series\": [{\"data\": [0.7636363636363637]}]}, {\"name\": \"average_precision_score_weighted\", \"run_id\": \"AutoML_1a16a5a7-f434-4d8f-b0a0-c37d5f9a934c\", \"categories\": [0], \"series\": [{\"data\": [0.8978862880884544]}]}, {\"name\": \"recall_score_macro\", \"run_id\": \"AutoML_1a16a5a7-f434-4d8f-b0a0-c37d5f9a934c\", \"categories\": [0], \"series\": [{\"data\": [0.6816816816816818]}]}, {\"name\": \"AUC_micro\", \"run_id\": \"AutoML_1a16a5a7-f434-4d8f-b0a0-c37d5f9a934c\", \"categories\": [0], \"series\": [{\"data\": [0.8960330578512397]}]}, {\"name\": \"matthews_correlation\", \"run_id\": \"AutoML_1a16a5a7-f434-4d8f-b0a0-c37d5f9a934c\", \"categories\": [0], \"series\": [{\"data\": [0.4262413420606707]}]}, {\"name\": \"AUC_weighted\", \"run_id\": \"AutoML_1a16a5a7-f434-4d8f-b0a0-c37d5f9a934c\", \"categories\": [0], \"series\": [{\"data\": [0.8866366366366367]}]}, {\"name\": \"precision_score_weighted\", \"run_id\": \"AutoML_1a16a5a7-f434-4d8f-b0a0-c37d5f9a934c\", \"categories\": [0], \"series\": [{\"data\": [0.7578512396694215]}]}, {\"name\": \"average_precision_score_macro\", \"run_id\": \"AutoML_1a16a5a7-f434-4d8f-b0a0-c37d5f9a934c\", \"categories\": [0], \"series\": [{\"data\": [0.8740169159000355]}]}, {\"name\": \"precision_score_micro\", \"run_id\": \"AutoML_1a16a5a7-f434-4d8f-b0a0-c37d5f9a934c\", \"categories\": [0], \"series\": [{\"data\": [0.7636363636363637]}]}, {\"name\": \"recall_score_weighted\", \"run_id\": \"AutoML_1a16a5a7-f434-4d8f-b0a0-c37d5f9a934c\", \"categories\": [0], \"series\": [{\"data\": [0.7636363636363637]}]}, {\"name\": \"f1_score_macro\", \"run_id\": \"AutoML_1a16a5a7-f434-4d8f-b0a0-c37d5f9a934c\", \"categories\": [0], \"series\": [{\"data\": [0.6956151553852703]}]}, {\"name\": \"precision_score_macro\", \"run_id\": \"AutoML_1a16a5a7-f434-4d8f-b0a0-c37d5f9a934c\", \"categories\": [0], \"series\": [{\"data\": [0.75]}]}, {\"name\": \"log_loss\", \"run_id\": \"AutoML_1a16a5a7-f434-4d8f-b0a0-c37d5f9a934c\", \"categories\": [0], \"series\": [{\"data\": [0.3932628851685375]}]}, {\"name\": \"accuracy\", \"run_id\": \"AutoML_1a16a5a7-f434-4d8f-b0a0-c37d5f9a934c\", \"categories\": [0], \"series\": [{\"data\": [0.7636363636363637]}]}, {\"name\": \"AUC_macro\", \"run_id\": \"AutoML_1a16a5a7-f434-4d8f-b0a0-c37d5f9a934c\", \"categories\": [0], \"series\": [{\"data\": [0.8866366366366367]}]}, {\"name\": \"balanced_accuracy\", \"run_id\": \"AutoML_1a16a5a7-f434-4d8f-b0a0-c37d5f9a934c\", \"categories\": [0], \"series\": [{\"data\": [0.6816816816816818]}]}, {\"name\": \"average_precision_score_micro\", \"run_id\": \"AutoML_1a16a5a7-f434-4d8f-b0a0-c37d5f9a934c\", \"categories\": [0], \"series\": [{\"data\": [0.9014232585635678]}]}, {\"name\": \"norm_macro_recall\", \"run_id\": \"AutoML_1a16a5a7-f434-4d8f-b0a0-c37d5f9a934c\", \"categories\": [0], \"series\": [{\"data\": [0.3633633633633635]}]}, {\"name\": \"f1_score_weighted\", \"run_id\": \"AutoML_1a16a5a7-f434-4d8f-b0a0-c37d5f9a934c\", \"categories\": [0], \"series\": [{\"data\": [0.7453229614149154]}]}, {\"name\": \"recall_score_micro\", \"run_id\": \"AutoML_1a16a5a7-f434-4d8f-b0a0-c37d5f9a934c\", \"categories\": [0], \"series\": [{\"data\": [0.7636363636363637]}]}], \"run_logs\": \"\\nRun is completed.\", \"graph\": {}, \"widget_settings\": {\"childWidgetDisplay\": \"popup\", \"send_telemetry\": false, \"log_level\": \"INFO\", \"sdk_version\": \"1.12.0\"}, \"loading\": false}"
     },
     "metadata": {},
     "output_type": "display_data"
    }
   ],
   "source": [
    "from azureml.widgets import RunDetails\n",
    "RunDetails(local_run).show()"
   ]
  },
  {
   "cell_type": "markdown",
   "metadata": {},
   "source": [
    "### 3.4 Liste des résultats autoML"
   ]
  },
  {
   "cell_type": "code",
   "execution_count": 112,
   "metadata": {},
   "outputs": [
    {
     "data": {
      "text/html": [
       "<div>\n",
       "<style scoped>\n",
       "    .dataframe tbody tr th:only-of-type {\n",
       "        vertical-align: middle;\n",
       "    }\n",
       "\n",
       "    .dataframe tbody tr th {\n",
       "        vertical-align: top;\n",
       "    }\n",
       "\n",
       "    .dataframe thead th {\n",
       "        text-align: right;\n",
       "    }\n",
       "</style>\n",
       "<table border=\"1\" class=\"dataframe\">\n",
       "  <thead>\n",
       "    <tr style=\"text-align: right;\">\n",
       "      <th></th>\n",
       "      <th>0</th>\n",
       "      <th>1</th>\n",
       "      <th>2</th>\n",
       "      <th>3</th>\n",
       "      <th>4</th>\n",
       "      <th>5</th>\n",
       "      <th>6</th>\n",
       "      <th>7</th>\n",
       "      <th>8</th>\n",
       "      <th>9</th>\n",
       "    </tr>\n",
       "  </thead>\n",
       "  <tbody>\n",
       "    <tr>\n",
       "      <th>AUC_macro</th>\n",
       "      <td>0.85</td>\n",
       "      <td>0.87</td>\n",
       "      <td>0.84</td>\n",
       "      <td>0.88</td>\n",
       "      <td>0.86</td>\n",
       "      <td>0.84</td>\n",
       "      <td>0.86</td>\n",
       "      <td>0.87</td>\n",
       "      <td>0.89</td>\n",
       "      <td>0.88</td>\n",
       "    </tr>\n",
       "    <tr>\n",
       "      <th>AUC_micro</th>\n",
       "      <td>0.86</td>\n",
       "      <td>0.88</td>\n",
       "      <td>0.86</td>\n",
       "      <td>0.88</td>\n",
       "      <td>0.88</td>\n",
       "      <td>0.86</td>\n",
       "      <td>0.89</td>\n",
       "      <td>0.86</td>\n",
       "      <td>0.90</td>\n",
       "      <td>0.89</td>\n",
       "    </tr>\n",
       "    <tr>\n",
       "      <th>AUC_weighted</th>\n",
       "      <td>0.85</td>\n",
       "      <td>0.87</td>\n",
       "      <td>0.84</td>\n",
       "      <td>0.88</td>\n",
       "      <td>0.86</td>\n",
       "      <td>0.84</td>\n",
       "      <td>0.86</td>\n",
       "      <td>0.87</td>\n",
       "      <td>0.89</td>\n",
       "      <td>0.88</td>\n",
       "    </tr>\n",
       "    <tr>\n",
       "      <th>accuracy</th>\n",
       "      <td>0.73</td>\n",
       "      <td>0.76</td>\n",
       "      <td>0.75</td>\n",
       "      <td>0.76</td>\n",
       "      <td>0.76</td>\n",
       "      <td>0.71</td>\n",
       "      <td>0.75</td>\n",
       "      <td>0.78</td>\n",
       "      <td>0.76</td>\n",
       "      <td>0.75</td>\n",
       "    </tr>\n",
       "    <tr>\n",
       "      <th>average_precision_score_macro</th>\n",
       "      <td>0.82</td>\n",
       "      <td>0.85</td>\n",
       "      <td>0.83</td>\n",
       "      <td>0.86</td>\n",
       "      <td>0.81</td>\n",
       "      <td>0.81</td>\n",
       "      <td>0.83</td>\n",
       "      <td>0.84</td>\n",
       "      <td>0.87</td>\n",
       "      <td>0.87</td>\n",
       "    </tr>\n",
       "    <tr>\n",
       "      <th>average_precision_score_micro</th>\n",
       "      <td>0.88</td>\n",
       "      <td>0.89</td>\n",
       "      <td>0.88</td>\n",
       "      <td>0.89</td>\n",
       "      <td>0.89</td>\n",
       "      <td>0.87</td>\n",
       "      <td>0.90</td>\n",
       "      <td>0.87</td>\n",
       "      <td>0.90</td>\n",
       "      <td>0.90</td>\n",
       "    </tr>\n",
       "    <tr>\n",
       "      <th>average_precision_score_weighted</th>\n",
       "      <td>0.86</td>\n",
       "      <td>0.88</td>\n",
       "      <td>0.86</td>\n",
       "      <td>0.89</td>\n",
       "      <td>0.86</td>\n",
       "      <td>0.85</td>\n",
       "      <td>0.87</td>\n",
       "      <td>0.88</td>\n",
       "      <td>0.90</td>\n",
       "      <td>0.90</td>\n",
       "    </tr>\n",
       "    <tr>\n",
       "      <th>balanced_accuracy</th>\n",
       "      <td>0.64</td>\n",
       "      <td>0.70</td>\n",
       "      <td>0.64</td>\n",
       "      <td>0.81</td>\n",
       "      <td>0.78</td>\n",
       "      <td>0.70</td>\n",
       "      <td>0.74</td>\n",
       "      <td>0.68</td>\n",
       "      <td>0.68</td>\n",
       "      <td>0.71</td>\n",
       "    </tr>\n",
       "    <tr>\n",
       "      <th>f1_score_macro</th>\n",
       "      <td>0.65</td>\n",
       "      <td>0.71</td>\n",
       "      <td>0.65</td>\n",
       "      <td>0.76</td>\n",
       "      <td>0.75</td>\n",
       "      <td>0.69</td>\n",
       "      <td>0.73</td>\n",
       "      <td>0.70</td>\n",
       "      <td>0.70</td>\n",
       "      <td>0.71</td>\n",
       "    </tr>\n",
       "    <tr>\n",
       "      <th>f1_score_micro</th>\n",
       "      <td>0.73</td>\n",
       "      <td>0.76</td>\n",
       "      <td>0.75</td>\n",
       "      <td>0.76</td>\n",
       "      <td>0.76</td>\n",
       "      <td>0.71</td>\n",
       "      <td>0.75</td>\n",
       "      <td>0.78</td>\n",
       "      <td>0.76</td>\n",
       "      <td>0.75</td>\n",
       "    </tr>\n",
       "    <tr>\n",
       "      <th>f1_score_weighted</th>\n",
       "      <td>0.71</td>\n",
       "      <td>0.75</td>\n",
       "      <td>0.71</td>\n",
       "      <td>0.77</td>\n",
       "      <td>0.77</td>\n",
       "      <td>0.72</td>\n",
       "      <td>0.75</td>\n",
       "      <td>0.75</td>\n",
       "      <td>0.75</td>\n",
       "      <td>0.75</td>\n",
       "    </tr>\n",
       "    <tr>\n",
       "      <th>log_loss</th>\n",
       "      <td>0.45</td>\n",
       "      <td>0.44</td>\n",
       "      <td>0.43</td>\n",
       "      <td>0.50</td>\n",
       "      <td>0.42</td>\n",
       "      <td>0.43</td>\n",
       "      <td>0.39</td>\n",
       "      <td>0.44</td>\n",
       "      <td>0.39</td>\n",
       "      <td>0.50</td>\n",
       "    </tr>\n",
       "    <tr>\n",
       "      <th>matthews_correlation</th>\n",
       "      <td>0.33</td>\n",
       "      <td>0.43</td>\n",
       "      <td>0.37</td>\n",
       "      <td>0.58</td>\n",
       "      <td>0.53</td>\n",
       "      <td>0.38</td>\n",
       "      <td>0.46</td>\n",
       "      <td>0.48</td>\n",
       "      <td>0.43</td>\n",
       "      <td>0.42</td>\n",
       "    </tr>\n",
       "    <tr>\n",
       "      <th>norm_macro_recall</th>\n",
       "      <td>0.28</td>\n",
       "      <td>0.39</td>\n",
       "      <td>0.28</td>\n",
       "      <td>0.62</td>\n",
       "      <td>0.56</td>\n",
       "      <td>0.40</td>\n",
       "      <td>0.48</td>\n",
       "      <td>0.36</td>\n",
       "      <td>0.36</td>\n",
       "      <td>0.42</td>\n",
       "    </tr>\n",
       "    <tr>\n",
       "      <th>precision_score_macro</th>\n",
       "      <td>0.69</td>\n",
       "      <td>0.74</td>\n",
       "      <td>0.75</td>\n",
       "      <td>0.77</td>\n",
       "      <td>0.75</td>\n",
       "      <td>0.68</td>\n",
       "      <td>0.72</td>\n",
       "      <td>0.82</td>\n",
       "      <td>0.75</td>\n",
       "      <td>0.71</td>\n",
       "    </tr>\n",
       "    <tr>\n",
       "      <th>precision_score_micro</th>\n",
       "      <td>0.73</td>\n",
       "      <td>0.76</td>\n",
       "      <td>0.75</td>\n",
       "      <td>0.76</td>\n",
       "      <td>0.76</td>\n",
       "      <td>0.71</td>\n",
       "      <td>0.75</td>\n",
       "      <td>0.78</td>\n",
       "      <td>0.76</td>\n",
       "      <td>0.75</td>\n",
       "    </tr>\n",
       "    <tr>\n",
       "      <th>precision_score_weighted</th>\n",
       "      <td>0.71</td>\n",
       "      <td>0.76</td>\n",
       "      <td>0.75</td>\n",
       "      <td>0.84</td>\n",
       "      <td>0.80</td>\n",
       "      <td>0.73</td>\n",
       "      <td>0.76</td>\n",
       "      <td>0.80</td>\n",
       "      <td>0.76</td>\n",
       "      <td>0.75</td>\n",
       "    </tr>\n",
       "    <tr>\n",
       "      <th>recall_score_macro</th>\n",
       "      <td>0.64</td>\n",
       "      <td>0.70</td>\n",
       "      <td>0.64</td>\n",
       "      <td>0.81</td>\n",
       "      <td>0.78</td>\n",
       "      <td>0.70</td>\n",
       "      <td>0.74</td>\n",
       "      <td>0.68</td>\n",
       "      <td>0.68</td>\n",
       "      <td>0.71</td>\n",
       "    </tr>\n",
       "    <tr>\n",
       "      <th>recall_score_micro</th>\n",
       "      <td>0.73</td>\n",
       "      <td>0.76</td>\n",
       "      <td>0.75</td>\n",
       "      <td>0.76</td>\n",
       "      <td>0.76</td>\n",
       "      <td>0.71</td>\n",
       "      <td>0.75</td>\n",
       "      <td>0.78</td>\n",
       "      <td>0.76</td>\n",
       "      <td>0.75</td>\n",
       "    </tr>\n",
       "    <tr>\n",
       "      <th>recall_score_weighted</th>\n",
       "      <td>0.73</td>\n",
       "      <td>0.76</td>\n",
       "      <td>0.75</td>\n",
       "      <td>0.76</td>\n",
       "      <td>0.76</td>\n",
       "      <td>0.71</td>\n",
       "      <td>0.75</td>\n",
       "      <td>0.78</td>\n",
       "      <td>0.76</td>\n",
       "      <td>0.75</td>\n",
       "    </tr>\n",
       "    <tr>\n",
       "      <th>weighted_accuracy</th>\n",
       "      <td>0.80</td>\n",
       "      <td>0.82</td>\n",
       "      <td>0.83</td>\n",
       "      <td>0.73</td>\n",
       "      <td>0.75</td>\n",
       "      <td>0.72</td>\n",
       "      <td>0.75</td>\n",
       "      <td>0.86</td>\n",
       "      <td>0.83</td>\n",
       "      <td>0.77</td>\n",
       "    </tr>\n",
       "  </tbody>\n",
       "</table>\n",
       "</div>"
      ],
      "text/plain": [
       "                                    0    1    2    3    4    5    6    7    8  \\\n",
       "AUC_macro                        0.85 0.87 0.84 0.88 0.86 0.84 0.86 0.87 0.89   \n",
       "AUC_micro                        0.86 0.88 0.86 0.88 0.88 0.86 0.89 0.86 0.90   \n",
       "AUC_weighted                     0.85 0.87 0.84 0.88 0.86 0.84 0.86 0.87 0.89   \n",
       "accuracy                         0.73 0.76 0.75 0.76 0.76 0.71 0.75 0.78 0.76   \n",
       "average_precision_score_macro    0.82 0.85 0.83 0.86 0.81 0.81 0.83 0.84 0.87   \n",
       "average_precision_score_micro    0.88 0.89 0.88 0.89 0.89 0.87 0.90 0.87 0.90   \n",
       "average_precision_score_weighted 0.86 0.88 0.86 0.89 0.86 0.85 0.87 0.88 0.90   \n",
       "balanced_accuracy                0.64 0.70 0.64 0.81 0.78 0.70 0.74 0.68 0.68   \n",
       "f1_score_macro                   0.65 0.71 0.65 0.76 0.75 0.69 0.73 0.70 0.70   \n",
       "f1_score_micro                   0.73 0.76 0.75 0.76 0.76 0.71 0.75 0.78 0.76   \n",
       "f1_score_weighted                0.71 0.75 0.71 0.77 0.77 0.72 0.75 0.75 0.75   \n",
       "log_loss                         0.45 0.44 0.43 0.50 0.42 0.43 0.39 0.44 0.39   \n",
       "matthews_correlation             0.33 0.43 0.37 0.58 0.53 0.38 0.46 0.48 0.43   \n",
       "norm_macro_recall                0.28 0.39 0.28 0.62 0.56 0.40 0.48 0.36 0.36   \n",
       "precision_score_macro            0.69 0.74 0.75 0.77 0.75 0.68 0.72 0.82 0.75   \n",
       "precision_score_micro            0.73 0.76 0.75 0.76 0.76 0.71 0.75 0.78 0.76   \n",
       "precision_score_weighted         0.71 0.76 0.75 0.84 0.80 0.73 0.76 0.80 0.76   \n",
       "recall_score_macro               0.64 0.70 0.64 0.81 0.78 0.70 0.74 0.68 0.68   \n",
       "recall_score_micro               0.73 0.76 0.75 0.76 0.76 0.71 0.75 0.78 0.76   \n",
       "recall_score_weighted            0.73 0.76 0.75 0.76 0.76 0.71 0.75 0.78 0.76   \n",
       "weighted_accuracy                0.80 0.82 0.83 0.73 0.75 0.72 0.75 0.86 0.83   \n",
       "\n",
       "                                    9  \n",
       "AUC_macro                        0.88  \n",
       "AUC_micro                        0.89  \n",
       "AUC_weighted                     0.88  \n",
       "accuracy                         0.75  \n",
       "average_precision_score_macro    0.87  \n",
       "average_precision_score_micro    0.90  \n",
       "average_precision_score_weighted 0.90  \n",
       "balanced_accuracy                0.71  \n",
       "f1_score_macro                   0.71  \n",
       "f1_score_micro                   0.75  \n",
       "f1_score_weighted                0.75  \n",
       "log_loss                         0.50  \n",
       "matthews_correlation             0.42  \n",
       "norm_macro_recall                0.42  \n",
       "precision_score_macro            0.71  \n",
       "precision_score_micro            0.75  \n",
       "precision_score_weighted         0.75  \n",
       "recall_score_macro               0.71  \n",
       "recall_score_micro               0.75  \n",
       "recall_score_weighted            0.75  \n",
       "weighted_accuracy                0.77  "
      ]
     },
     "execution_count": 112,
     "metadata": {},
     "output_type": "execute_result"
    }
   ],
   "source": [
    "children = list(local_run.get_children())\n",
    "metricslist = {}\n",
    "for run in children:\n",
    "    properties = run.get_properties()\n",
    "    metrics = {k: v for k, v in run.get_metrics().items() if isinstance(v, float)}\n",
    "    metricslist[int(properties['iteration'])] = metrics\n",
    "\n",
    "rundata = pd.DataFrame(metricslist).sort_index(1)\n",
    "rundata"
   ]
  },
  {
   "cell_type": "markdown",
   "metadata": {},
   "source": [
    "### 3.5 Choix du meilleur modèle selon l'AUC"
   ]
  },
  {
   "cell_type": "code",
   "execution_count": 113,
   "metadata": {},
   "outputs": [
    {
     "name": "stdout",
     "output_type": "stream",
     "text": [
      "Meilleur modèle selon l'AUC :\n",
      "\n",
      "Run(Experiment: AutoMLTitanicSDK,\n",
      "Id: AutoML_1a16a5a7-f434-4d8f-b0a0-c37d5f9a934c_8,\n",
      "Type: None,\n",
      "Status: Completed)\n",
      "\n",
      "Pipeline(memory=None,\n",
      "     steps=[('datatransformer', DataTransformer(enable_dnn=None, enable_feature_sweeping=None,\n",
      "        feature_sweeping_config=None, feature_sweeping_timeout=None,\n",
      "        featurization_config=None, force_text_dnn=None,\n",
      "        is_cross_validation=None, is_onnx_compatible=None, logger=None,\n",
      "        obser...n_jobs=1,\n",
      "            oob_score=False, random_state=None, verbose=0,\n",
      "            warm_start=False))])\n"
     ]
    }
   ],
   "source": [
    "best_run, fitted_model = local_run.get_output()\n",
    "\n",
    "print(\"Meilleur modèle selon l'AUC :\")\n",
    "print(\"\")\n",
    "print(best_run)\n",
    "print(\"\")\n",
    "print(fitted_model)"
   ]
  },
  {
   "cell_type": "code",
   "execution_count": 114,
   "metadata": {},
   "outputs": [
    {
     "data": {
      "text/plain": [
       "<bound method Pipeline.get_params of Pipeline(memory=None,\n",
       "     steps=[('datatransformer', DataTransformer(enable_dnn=None, enable_feature_sweeping=None,\n",
       "        feature_sweeping_config=None, feature_sweeping_timeout=None,\n",
       "        featurization_config=None, force_text_dnn=None,\n",
       "        is_cross_validation=None, is_onnx_compatible=None, logger=None,\n",
       "        obser...n_jobs=1,\n",
       "            oob_score=False, random_state=None, verbose=0,\n",
       "            warm_start=False))])>"
      ]
     },
     "execution_count": 114,
     "metadata": {},
     "output_type": "execute_result"
    }
   ],
   "source": [
    "fitted_model.get_params"
   ]
  },
  {
   "cell_type": "code",
   "execution_count": 115,
   "metadata": {},
   "outputs": [
    {
     "data": {
      "text/html": [
       "[('datatransformer', DataTransformer(enable_dnn=None, enable_feature_sweeping=None,\n",
       "        feature_sweeping_config=None, feature_sweeping_timeout=None,\n",
       "        featurization_config=None, force_text_dnn=None,\n",
       "        is_cross_validation=None, is_onnx_compatible=None, logger=None,\n",
       "        observer=None, task=None, working_dir=None)), ('MaxAbsScaler', MaxAbsScaler(copy=True)), ('RandomForestClassifier', RandomForestClassifier(bootstrap=True, class_weight=None, criterion='gini',\n",
       "            max_depth=None, max_features='log2', max_leaf_nodes=None,\n",
       "            min_impurity_decrease=0.0, min_impurity_split=None,\n",
       "            min_samples_leaf=0.01, min_samples_split=0.01,\n",
       "            min_weight_fraction_leaf=0.0, n_estimators=10, n_jobs=1,\n",
       "            oob_score=False, random_state=None, verbose=0,\n",
       "            warm_start=False))]"
      ],
      "text/plain": [
       "[('datatransformer',\n",
       "  DataTransformer(enable_dnn=None, enable_feature_sweeping=None,\n",
       "          feature_sweeping_config=None, feature_sweeping_timeout=None,\n",
       "          featurization_config=None, force_text_dnn=None,\n",
       "          is_cross_validation=None, is_onnx_compatible=None, logger=None,\n",
       "          observer=None, task=None, working_dir=None)),\n",
       " ('MaxAbsScaler', MaxAbsScaler(copy=True)),\n",
       " ('RandomForestClassifier',\n",
       "  RandomForestClassifier(bootstrap=True, class_weight=None, criterion='gini',\n",
       "              max_depth=None, max_features='log2', max_leaf_nodes=None,\n",
       "              min_impurity_decrease=0.0, min_impurity_split=None,\n",
       "              min_samples_leaf=0.01, min_samples_split=0.01,\n",
       "              min_weight_fraction_leaf=0.0, n_estimators=10, n_jobs=1,\n",
       "              oob_score=False, random_state=None, verbose=0,\n",
       "              warm_start=False))]"
      ]
     },
     "execution_count": 115,
     "metadata": {},
     "output_type": "execute_result"
    }
   ],
   "source": [
    "fitted_model.steps"
   ]
  },
  {
   "cell_type": "markdown",
   "metadata": {},
   "source": [
    "### 3.6 Changement métrique de qualité\n",
    "\n",
    "Autres métriques disponibles :\n",
    "accuracy, AUC_weighted, average_precision_score_weighted, norm_macro_recall, precision_score_weighted"
   ]
  },
  {
   "cell_type": "code",
   "execution_count": 116,
   "metadata": {},
   "outputs": [
    {
     "name": "stdout",
     "output_type": "stream",
     "text": [
      "Meilleur modèle selon le score F1 :\n",
      "\n",
      "Run(Experiment: AutoMLTitanicSDK,\n",
      "Id: AutoML_1a16a5a7-f434-4d8f-b0a0-c37d5f9a934c_3,\n",
      "Type: None,\n",
      "Status: Completed)\n",
      "\n",
      "Pipeline(memory=None,\n",
      "     steps=[('datatransformer', DataTransformer(enable_dnn=None, enable_feature_sweeping=None,\n",
      "        feature_sweeping_config=None, feature_sweeping_timeout=None,\n",
      "        featurization_config=None, force_text_dnn=None,\n",
      "        is_cross_validation=None, is_onnx_compatible=None, logger=None,\n",
      "        obser...'log', max_iter=1000, n_jobs=1,\n",
      "           penalty='none', power_t=0, random_state=None, tol=0.01))])\n"
     ]
    }
   ],
   "source": [
    "lookup_metric = \"f1_score_weighted\"\n",
    "\n",
    "best_run, fitted_model = local_run.get_output(metric = lookup_metric)\n",
    "\n",
    "print(\"Meilleur modèle selon le score F1 :\")\n",
    "print(\"\")\n",
    "print(best_run)\n",
    "print(\"\")\n",
    "print(fitted_model)"
   ]
  },
  {
   "cell_type": "code",
   "execution_count": 117,
   "metadata": {},
   "outputs": [
    {
     "name": "stdout",
     "output_type": "stream",
     "text": [
      "Meilleur modèle selon accuracy :\n",
      "\n",
      "Run(Experiment: AutoMLTitanicSDK,\n",
      "Id: AutoML_1a16a5a7-f434-4d8f-b0a0-c37d5f9a934c_7,\n",
      "Type: None,\n",
      "Status: Completed)\n",
      "\n",
      "Pipeline(memory=None,\n",
      "     steps=[('datatransformer', DataTransformer(enable_dnn=None, enable_feature_sweeping=None,\n",
      "        feature_sweeping_config=None, feature_sweeping_timeout=None,\n",
      "        featurization_config=None, force_text_dnn=None,\n",
      "        is_cross_validation=None, is_onnx_compatible=None, logger=None,\n",
      "        obser...    n_jobs=1, penalty='none', power_t=0.3333333333333333,\n",
      "           random_state=None, tol=0.001))])\n"
     ]
    }
   ],
   "source": [
    "lookup_metric = \"accuracy\"\n",
    "\n",
    "best_run, fitted_model = local_run.get_output(metric = lookup_metric)\n",
    "\n",
    "print(\"Meilleur modèle selon accuracy :\")\n",
    "print(\"\")\n",
    "print(best_run)\n",
    "print(\"\")\n",
    "print(fitted_model)"
   ]
  },
  {
   "cell_type": "markdown",
   "metadata": {},
   "source": [
    "### 3.7 Choix d'une itération particulière"
   ]
  },
  {
   "cell_type": "code",
   "execution_count": 118,
   "metadata": {
    "scrolled": true
   },
   "outputs": [],
   "source": [
    "moniteration = 2"
   ]
  },
  {
   "cell_type": "code",
   "execution_count": 119,
   "metadata": {},
   "outputs": [
    {
     "name": "stdout",
     "output_type": "stream",
     "text": [
      "Pipeline 2ème itération :\n",
      "\n",
      "Run(Experiment: AutoMLTitanicSDK,\n",
      "Id: AutoML_1a16a5a7-f434-4d8f-b0a0-c37d5f9a934c_2,\n",
      "Type: None,\n",
      "Status: Completed)\n",
      "\n",
      "Pipeline(memory=None,\n",
      "     steps=[('datatransformer', DataTransformer(enable_dnn=None, enable_feature_sweeping=None,\n",
      "        feature_sweeping_config=None, feature_sweeping_timeout=None,\n",
      "        featurization_config=None, force_text_dnn=None,\n",
      "        is_cross_validation=None, is_onnx_compatible=None, logger=None,\n",
      "        obser...n_jobs=1,\n",
      "            oob_score=False, random_state=None, verbose=0,\n",
      "            warm_start=False))])\n"
     ]
    }
   ],
   "source": [
    "my_run, my_model = local_run.get_output(iteration = moniteration)\n",
    "\n",
    "print(\"Pipeline \"+ str(moniteration) +\"ème itération :\")\n",
    "print(\"\")\n",
    "print(my_run)\n",
    "print(\"\")\n",
    "print(my_model)"
   ]
  },
  {
   "cell_type": "markdown",
   "metadata": {},
   "source": [
    "### 4. On applique le modèle sur la base de Test"
   ]
  },
  {
   "cell_type": "markdown",
   "metadata": {},
   "source": [
    "### 4.1 On utilise le meilleur modèle selon l'AUC"
   ]
  },
  {
   "cell_type": "code",
   "execution_count": 120,
   "metadata": {},
   "outputs": [
    {
     "name": "stdout",
     "output_type": "stream",
     "text": [
      "Meilleur modèle selon la métrique initiale :\n",
      "\n",
      "Run(Experiment: AutoMLTitanicSDK,\n",
      "Id: AutoML_1a16a5a7-f434-4d8f-b0a0-c37d5f9a934c_8,\n",
      "Type: None,\n",
      "Status: Completed)\n",
      "\n",
      "Pipeline(memory=None,\n",
      "     steps=[('datatransformer', DataTransformer(enable_dnn=None, enable_feature_sweeping=None,\n",
      "        feature_sweeping_config=None, feature_sweeping_timeout=None,\n",
      "        featurization_config=None, force_text_dnn=None,\n",
      "        is_cross_validation=None, is_onnx_compatible=None, logger=None,\n",
      "        obser...n_jobs=1,\n",
      "            oob_score=False, random_state=None, verbose=0,\n",
      "            warm_start=False))])\n"
     ]
    }
   ],
   "source": [
    "best_run, fitted_model = local_run.get_output()\n",
    "\n",
    "print(\"Meilleur modèle selon la métrique initiale :\")\n",
    "print(\"\")\n",
    "print(best_run)\n",
    "print(\"\")\n",
    "print(fitted_model)"
   ]
  },
  {
   "cell_type": "code",
   "execution_count": 121,
   "metadata": {},
   "outputs": [
    {
     "name": "stdout",
     "output_type": "stream",
     "text": [
      "Run(Experiment: AutoMLTitanicSDK,\n",
      "Id: AutoML_1a16a5a7-f434-4d8f-b0a0-c37d5f9a934c_8,\n",
      "Type: None,\n",
      "Status: Completed)\n",
      "\n",
      "Pipeline(memory=None,\n",
      "     steps=[('datatransformer', DataTransformer(enable_dnn=None, enable_feature_sweeping=None,\n",
      "        feature_sweeping_config=None, feature_sweeping_timeout=None,\n",
      "        featurization_config=None, force_text_dnn=None,\n",
      "        is_cross_validation=None, is_onnx_compatible=None, logger=None,\n",
      "        obser...n_jobs=1,\n",
      "            oob_score=False, random_state=None, verbose=0,\n",
      "            warm_start=False))])\n",
      "\n",
      "weighted_accuracy  =  0.8281157708210278\n",
      "f1_score_micro  =  0.7636363636363637\n",
      "average_precision_score_weighted  =  0.8978862880884544\n",
      "recall_score_macro  =  0.6816816816816818\n",
      "matthews_correlation  =  0.4262413420606707\n",
      "AUC_micro  =  0.8960330578512397\n",
      "AUC_weighted  =  0.8866366366366367\n",
      "precision_score_weighted  =  0.7578512396694215\n",
      "precision_score_micro  =  0.7636363636363637\n",
      "average_precision_score_macro  =  0.8740169159000355\n",
      "recall_score_weighted  =  0.7636363636363637\n",
      "f1_score_macro  =  0.6956151553852703\n",
      "precision_score_macro  =  0.75\n",
      "log_loss  =  0.3932628851685375\n",
      "AUC_macro  =  0.8866366366366367\n",
      "accuracy  =  0.7636363636363637\n",
      "balanced_accuracy  =  0.6816816816816818\n",
      "average_precision_score_micro  =  0.9014232585635678\n",
      "norm_macro_recall  =  0.3633633633633635\n",
      "recall_score_micro  =  0.7636363636363637\n",
      "f1_score_weighted  =  0.7453229614149154\n",
      "confusion_matrix  =  aml://artifactId/ExperimentRun/dcid.AutoML_1a16a5a7-f434-4d8f-b0a0-c37d5f9a934c_8/confusion_matrix\n",
      "accuracy_table  =  aml://artifactId/ExperimentRun/dcid.AutoML_1a16a5a7-f434-4d8f-b0a0-c37d5f9a934c_8/accuracy_table\n"
     ]
    }
   ],
   "source": [
    "best_run, fitted_model = local_run.get_output()\n",
    "print(best_run)\n",
    "print()\n",
    "print(fitted_model)\n",
    "print()\n",
    "best_run_metrics = best_run.get_metrics()\n",
    "for metric_name in best_run_metrics:\n",
    "    metric = best_run_metrics[metric_name]\n",
    "    print(metric_name, ' = ', metric)"
   ]
  },
  {
   "cell_type": "code",
   "execution_count": 122,
   "metadata": {},
   "outputs": [
    {
     "data": {
      "text/plain": [
       "Model(workspace=Workspace.create(name='workshop', subscription_id='70b8f39e-8863-49f7-b6ba-34a80799550c', resource_group='workshop-rg'), name=Titanic-model, id=Titanic-model:2, version=2, tags={'Training context': 'Azure Auto ML SDK'}, properties={'AUC': '0.8866366366366367', 'Accuracy': '0.7636363636363637'})"
      ]
     },
     "execution_count": 122,
     "metadata": {},
     "output_type": "execute_result"
    }
   ],
   "source": [
    "from azureml.core import Model\n",
    "\n",
    "best_run.register_model(model_path='outputs/model.pkl', model_name='Titanic-model',\n",
    "                        tags={'Training context':'Azure Auto ML SDK'},\n",
    "                        properties={'AUC': best_run_metrics['AUC_weighted'], 'Accuracy': best_run_metrics['accuracy']})\n"
   ]
  },
  {
   "cell_type": "code",
   "execution_count": 123,
   "metadata": {},
   "outputs": [
    {
     "name": "stdout",
     "output_type": "stream",
     "text": [
      "Titanic-model version = 2\n",
      "\t Training context : Azure Auto ML SDK\n",
      "\t AUC : 0.8866366366366367\n",
      "\t Accuracy : 0.7636363636363637\n",
      "\n",
      "\n",
      "amlstudio-titanic-real-time-in version = 1\n",
      "\t CreatedByAMLStudio : true\n",
      "\n",
      "\n",
      "Titanic-model version = 1\n",
      "\t Training context : Azure Auto ML SDK\n",
      "\t AUC : 0.9099099099099098\n",
      "\t Accuracy : 0.8181818181818182\n",
      "\n",
      "\n"
     ]
    }
   ],
   "source": [
    "# Liste des modèles référencés\n",
    "for model in Model.list(ws):\n",
    "    print(model.name, 'version =', model.version)\n",
    "    for tag_name in model.tags:\n",
    "        tag = model.tags[tag_name]\n",
    "        print ('\\t',tag_name, ':', tag)\n",
    "    for prop_name in model.properties:\n",
    "        prop = model.properties[prop_name]\n",
    "        print ('\\t',prop_name, ':', prop)\n",
    "    print('\\n')"
   ]
  },
  {
   "cell_type": "markdown",
   "metadata": {},
   "source": [
    "### 4.2 On applique le modèle"
   ]
  },
  {
   "cell_type": "code",
   "execution_count": 124,
   "metadata": {},
   "outputs": [],
   "source": [
    "# Calcul de la décision\n",
    "y_test_pred = fitted_model.predict(X_test.values)"
   ]
  },
  {
   "cell_type": "code",
   "execution_count": 125,
   "metadata": {},
   "outputs": [],
   "source": [
    "Decision=pd.DataFrame(y_test_pred)"
   ]
  },
  {
   "cell_type": "code",
   "execution_count": 126,
   "metadata": {},
   "outputs": [],
   "source": [
    "# Obtention des scores\n",
    "proba=fitted_model.predict_proba(X_test.values)"
   ]
  },
  {
   "cell_type": "code",
   "execution_count": 127,
   "metadata": {},
   "outputs": [
    {
     "data": {
      "text/html": [
       "<div>\n",
       "<style scoped>\n",
       "    .dataframe tbody tr th:only-of-type {\n",
       "        vertical-align: middle;\n",
       "    }\n",
       "\n",
       "    .dataframe tbody tr th {\n",
       "        vertical-align: top;\n",
       "    }\n",
       "\n",
       "    .dataframe thead th {\n",
       "        text-align: right;\n",
       "    }\n",
       "</style>\n",
       "<table border=\"1\" class=\"dataframe\">\n",
       "  <thead>\n",
       "    <tr style=\"text-align: right;\">\n",
       "      <th></th>\n",
       "      <th>Decision</th>\n",
       "    </tr>\n",
       "  </thead>\n",
       "  <tbody>\n",
       "    <tr>\n",
       "      <th>0</th>\n",
       "      <td>1</td>\n",
       "    </tr>\n",
       "    <tr>\n",
       "      <th>1</th>\n",
       "      <td>1</td>\n",
       "    </tr>\n",
       "    <tr>\n",
       "      <th>2</th>\n",
       "      <td>0</td>\n",
       "    </tr>\n",
       "    <tr>\n",
       "      <th>3</th>\n",
       "      <td>1</td>\n",
       "    </tr>\n",
       "    <tr>\n",
       "      <th>4</th>\n",
       "      <td>1</td>\n",
       "    </tr>\n",
       "  </tbody>\n",
       "</table>\n",
       "</div>"
      ],
      "text/plain": [
       "   Decision\n",
       "0  1       \n",
       "1  1       \n",
       "2  0       \n",
       "3  1       \n",
       "4  1       "
      ]
     },
     "execution_count": 127,
     "metadata": {},
     "output_type": "execute_result"
    }
   ],
   "source": [
    "Decision.columns = ['Decision']\n",
    "Decision.head()"
   ]
  },
  {
   "cell_type": "code",
   "execution_count": 128,
   "metadata": {},
   "outputs": [],
   "source": [
    "Proba=pd.DataFrame(proba)"
   ]
  },
  {
   "cell_type": "code",
   "execution_count": 129,
   "metadata": {},
   "outputs": [],
   "source": [
    "Proba.columns = ['Proba_0', 'Proba_1']"
   ]
  },
  {
   "cell_type": "code",
   "execution_count": 130,
   "metadata": {},
   "outputs": [
    {
     "data": {
      "text/html": [
       "<div>\n",
       "<style scoped>\n",
       "    .dataframe tbody tr th:only-of-type {\n",
       "        vertical-align: middle;\n",
       "    }\n",
       "\n",
       "    .dataframe tbody tr th {\n",
       "        vertical-align: top;\n",
       "    }\n",
       "\n",
       "    .dataframe thead th {\n",
       "        text-align: right;\n",
       "    }\n",
       "</style>\n",
       "<table border=\"1\" class=\"dataframe\">\n",
       "  <thead>\n",
       "    <tr style=\"text-align: right;\">\n",
       "      <th></th>\n",
       "      <th>Proba_0</th>\n",
       "      <th>Proba_1</th>\n",
       "    </tr>\n",
       "  </thead>\n",
       "  <tbody>\n",
       "    <tr>\n",
       "      <th>0</th>\n",
       "      <td>0.07</td>\n",
       "      <td>0.93</td>\n",
       "    </tr>\n",
       "    <tr>\n",
       "      <th>1</th>\n",
       "      <td>0.03</td>\n",
       "      <td>0.97</td>\n",
       "    </tr>\n",
       "    <tr>\n",
       "      <th>2</th>\n",
       "      <td>0.95</td>\n",
       "      <td>0.05</td>\n",
       "    </tr>\n",
       "    <tr>\n",
       "      <th>3</th>\n",
       "      <td>0.11</td>\n",
       "      <td>0.89</td>\n",
       "    </tr>\n",
       "    <tr>\n",
       "      <th>4</th>\n",
       "      <td>0.01</td>\n",
       "      <td>0.99</td>\n",
       "    </tr>\n",
       "  </tbody>\n",
       "</table>\n",
       "</div>"
      ],
      "text/plain": [
       "   Proba_0  Proba_1\n",
       "0 0.07     0.93    \n",
       "1 0.03     0.97    \n",
       "2 0.95     0.05    \n",
       "3 0.11     0.89    \n",
       "4 0.01     0.99    "
      ]
     },
     "execution_count": 130,
     "metadata": {},
     "output_type": "execute_result"
    }
   ],
   "source": [
    "Proba.head()"
   ]
  },
  {
   "cell_type": "code",
   "execution_count": 131,
   "metadata": {},
   "outputs": [],
   "source": [
    "Scoring = pd.concat([Decision, Proba], axis=1)"
   ]
  },
  {
   "cell_type": "markdown",
   "metadata": {},
   "source": [
    "### 4.3 Résultats du scoring"
   ]
  },
  {
   "cell_type": "code",
   "execution_count": 132,
   "metadata": {},
   "outputs": [
    {
     "data": {
      "text/html": [
       "<div>\n",
       "<style scoped>\n",
       "    .dataframe tbody tr th:only-of-type {\n",
       "        vertical-align: middle;\n",
       "    }\n",
       "\n",
       "    .dataframe tbody tr th {\n",
       "        vertical-align: top;\n",
       "    }\n",
       "\n",
       "    .dataframe thead th {\n",
       "        text-align: right;\n",
       "    }\n",
       "</style>\n",
       "<table border=\"1\" class=\"dataframe\">\n",
       "  <thead>\n",
       "    <tr style=\"text-align: right;\">\n",
       "      <th></th>\n",
       "      <th>Decision</th>\n",
       "      <th>Proba_0</th>\n",
       "      <th>Proba_1</th>\n",
       "    </tr>\n",
       "  </thead>\n",
       "  <tbody>\n",
       "    <tr>\n",
       "      <th>0</th>\n",
       "      <td>1</td>\n",
       "      <td>0.07</td>\n",
       "      <td>0.93</td>\n",
       "    </tr>\n",
       "    <tr>\n",
       "      <th>1</th>\n",
       "      <td>1</td>\n",
       "      <td>0.03</td>\n",
       "      <td>0.97</td>\n",
       "    </tr>\n",
       "    <tr>\n",
       "      <th>2</th>\n",
       "      <td>0</td>\n",
       "      <td>0.95</td>\n",
       "      <td>0.05</td>\n",
       "    </tr>\n",
       "    <tr>\n",
       "      <th>3</th>\n",
       "      <td>1</td>\n",
       "      <td>0.11</td>\n",
       "      <td>0.89</td>\n",
       "    </tr>\n",
       "    <tr>\n",
       "      <th>4</th>\n",
       "      <td>1</td>\n",
       "      <td>0.01</td>\n",
       "      <td>0.99</td>\n",
       "    </tr>\n",
       "  </tbody>\n",
       "</table>\n",
       "</div>"
      ],
      "text/plain": [
       "   Decision  Proba_0  Proba_1\n",
       "0  1        0.07     0.93    \n",
       "1  1        0.03     0.97    \n",
       "2  0        0.95     0.05    \n",
       "3  1        0.11     0.89    \n",
       "4  1        0.01     0.99    "
      ]
     },
     "execution_count": 132,
     "metadata": {},
     "output_type": "execute_result"
    }
   ],
   "source": [
    "Scoring.head()"
   ]
  },
  {
   "cell_type": "code",
   "execution_count": 133,
   "metadata": {},
   "outputs": [
    {
     "data": {
      "text/plain": [
       "<matplotlib.axes._subplots.AxesSubplot at 0x7fbffb9f1cf8>"
      ]
     },
     "execution_count": 133,
     "metadata": {},
     "output_type": "execute_result"
    },
    {
     "data": {
      "image/png": "[encoded data removed]",
      "text/plain": [
       "<Figure size 432x288 with 1 Axes>"
      ]
     },
     "metadata": {
      "needs_background": "light"
     },
     "output_type": "display_data"
    }
   ],
   "source": [
    "Scoring.groupby('Decision').size().plot(kind='bar')"
   ]
  },
  {
   "cell_type": "code",
   "execution_count": 134,
   "metadata": {},
   "outputs": [
    {
     "data": {
      "text/html": [
       "<div>\n",
       "<style scoped>\n",
       "    .dataframe tbody tr th:only-of-type {\n",
       "        vertical-align: middle;\n",
       "    }\n",
       "\n",
       "    .dataframe tbody tr th {\n",
       "        vertical-align: top;\n",
       "    }\n",
       "\n",
       "    .dataframe thead th {\n",
       "        text-align: right;\n",
       "    }\n",
       "</style>\n",
       "<table border=\"1\" class=\"dataframe\">\n",
       "  <thead>\n",
       "    <tr style=\"text-align: right;\">\n",
       "      <th></th>\n",
       "      <th>Decision</th>\n",
       "      <th>Proba_0</th>\n",
       "      <th>Proba_1</th>\n",
       "    </tr>\n",
       "  </thead>\n",
       "  <tbody>\n",
       "    <tr>\n",
       "      <th>count</th>\n",
       "      <td>55.00</td>\n",
       "      <td>55.00</td>\n",
       "      <td>55.00</td>\n",
       "    </tr>\n",
       "    <tr>\n",
       "      <th>mean</th>\n",
       "      <td>0.80</td>\n",
       "      <td>0.29</td>\n",
       "      <td>0.71</td>\n",
       "    </tr>\n",
       "    <tr>\n",
       "      <th>std</th>\n",
       "      <td>0.40</td>\n",
       "      <td>0.26</td>\n",
       "      <td>0.26</td>\n",
       "    </tr>\n",
       "    <tr>\n",
       "      <th>min</th>\n",
       "      <td>0.00</td>\n",
       "      <td>0.01</td>\n",
       "      <td>0.05</td>\n",
       "    </tr>\n",
       "    <tr>\n",
       "      <th>25%</th>\n",
       "      <td>1.00</td>\n",
       "      <td>0.09</td>\n",
       "      <td>0.54</td>\n",
       "    </tr>\n",
       "    <tr>\n",
       "      <th>50%</th>\n",
       "      <td>1.00</td>\n",
       "      <td>0.20</td>\n",
       "      <td>0.80</td>\n",
       "    </tr>\n",
       "    <tr>\n",
       "      <th>75%</th>\n",
       "      <td>1.00</td>\n",
       "      <td>0.46</td>\n",
       "      <td>0.91</td>\n",
       "    </tr>\n",
       "    <tr>\n",
       "      <th>max</th>\n",
       "      <td>1.00</td>\n",
       "      <td>0.95</td>\n",
       "      <td>0.99</td>\n",
       "    </tr>\n",
       "  </tbody>\n",
       "</table>\n",
       "</div>"
      ],
      "text/plain": [
       "       Decision  Proba_0  Proba_1\n",
       "count 55.00     55.00    55.00   \n",
       "mean  0.80      0.29     0.71    \n",
       "std   0.40      0.26     0.26    \n",
       "min   0.00      0.01     0.05    \n",
       "25%   1.00      0.09     0.54    \n",
       "50%   1.00      0.20     0.80    \n",
       "75%   1.00      0.46     0.91    \n",
       "max   1.00      0.95     0.99    "
      ]
     },
     "execution_count": 134,
     "metadata": {},
     "output_type": "execute_result"
    }
   ],
   "source": [
    "Scoring.describe()"
   ]
  },
  {
   "cell_type": "markdown",
   "metadata": {},
   "source": [
    "### 4.4 Exportation des scores dans un fichier CSV"
   ]
  },
  {
   "cell_type": "code",
   "execution_count": 135,
   "metadata": {},
   "outputs": [],
   "source": [
    "import time\n",
    "datedujour = time.strftime(\"%Y-%m-%d-%H%M%S\")"
   ]
  },
  {
   "cell_type": "code",
   "execution_count": 136,
   "metadata": {},
   "outputs": [],
   "source": [
    "# Export\n",
    "Scoring.to_csv(r'Export_Titanic'+datedujour+'.csv')"
   ]
  },
  {
   "cell_type": "code",
   "execution_count": 137,
   "metadata": {},
   "outputs": [
    {
     "name": "stdout",
     "output_type": "stream",
     "text": [
      "3 -rwxrwxrwx 1 root root 2396 Aug 27 12:52 \u001b[0m\u001b[01;32mExport_Titanic2020-08-27-125256.csv\u001b[0m*\r\n",
      "3 -rwxrwxrwx 1 root root 2091 Aug 27 13:15 \u001b[01;32mExport_Titanic2020-08-27-131530.csv\u001b[0m*\r\n"
     ]
    }
   ],
   "source": [
    "# Visualisation des fichiers\n",
    "%ls Export*.csv -ls"
   ]
  },
  {
   "cell_type": "markdown",
   "metadata": {},
   "source": [
    "> Fin"
   ]
  }
 ],
 "metadata": {
  "kernelspec": {
   "display_name": "Python 3.6 - AzureML",
   "language": "python",
   "name": "python3-azureml"
  },
  "language_info": {
   "codemirror_mode": {
    "name": "ipython",
    "version": 3
   },
   "file_extension": ".py",
   "mimetype": "text/x-python",
   "name": "python",
   "nbconvert_exporter": "python",
   "pygments_lexer": "ipython3",
   "version": "3.6.9"
  }
 },
 "nbformat": 4,
 "nbformat_minor": 1
}
