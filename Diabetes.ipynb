{
 "cells": [
  {
   "cell_type": "code",
   "execution_count": 1,
   "metadata": {},
   "outputs": [
    {
     "data": {
      "text/plain": [
       "'3.6.9 |Anaconda, Inc.| (default, Jul 30 2019, 19:07:31) \\n[GCC 7.3.0]'"
      ]
     },
     "execution_count": 1,
     "metadata": {},
     "output_type": "execute_result"
    }
   ],
   "source": [
    "import sys\n",
    "sys.version"
   ]
  },
  {
   "cell_type": "code",
   "execution_count": 2,
   "metadata": {},
   "outputs": [
    {
     "name": "stdout",
     "output_type": "stream",
     "text": [
      "Patient: 1882185.0\n",
      "Prediction: 1.0\n",
      "Probability: 0.97\n"
     ]
    }
   ],
   "source": [
    "endpoint = 'http://52.148.242.117:80/api/v1/service/predict-diabetes/score' #Replace with your endpoint\n",
    "key = '3dcybjHqbD5z0jbk3D38jTeM7I0amTJY' #Replace with your key\n",
    "\n",
    "import urllib.request\n",
    "import json\n",
    "import os\n",
    "\n",
    "data = {\n",
    "    \"Inputs\": {\n",
    "        \"WebServiceInput0\":\n",
    "        [\n",
    "            {\n",
    "                    'PatientID': 1882185,\n",
    "                    'Pregnancies': 9,\n",
    "                    'PlasmaGlucose': 104,\n",
    "                    'DiastolicBloodPressure': 51,\n",
    "                    'TricepsThickness': 7,\n",
    "                    'SerumInsulin': 24,\n",
    "                    'BMI': 27.36983156,\n",
    "                    'DiabetesPedigree': 1.3504720469999998,\n",
    "                    'Age': 43,\n",
    "            },\n",
    "        ],\n",
    "    },\n",
    "    \"GlobalParameters\":  {\n",
    "    }\n",
    "}\n",
    "\n",
    "body = str.encode(json.dumps(data))\n",
    "\n",
    "\n",
    "headers = {'Content-Type':'application/json', 'Authorization':('Bearer '+ key)}\n",
    "\n",
    "req = urllib.request.Request(endpoint, body, headers)\n",
    "\n",
    "try:\n",
    "    response = urllib.request.urlopen(req)\n",
    "    result = response.read()\n",
    "    json_result = json.loads(result)\n",
    "    output = json_result[\"Results\"][\"WebServiceOutput0\"][0]\n",
    "    print('Patient: {}\\nPrediction: {}\\nProbability: {:.2f}'.format(output[\"PatientID\"],\n",
    "                                                            output[\"DiabetesPrediction\"],\n",
    "                                                            output[\"Probability\"]))\n",
    "except urllib.error.HTTPError as error:\n",
    "    print(\"The request failed with status code: \" + str(error.code))\n",
    "\n",
    "    # Print the headers to help debug\n",
    "    print(error.info())\n",
    "    print(json.loads(error.read().decode(\"utf8\", 'ignore')))"
   ]
  },
  {
   "cell_type": "code",
   "execution_count": null,
   "metadata": {},
   "outputs": [],
   "source": []
  }
 ],
 "metadata": {
  "kernelspec": {
   "display_name": "Python 3.6 - AzureML",
   "language": "python",
   "name": "python3-azureml"
  },
  "language_info": {
   "codemirror_mode": {
    "name": "ipython",
    "version": 3
   },
   "file_extension": ".py",
   "mimetype": "text/x-python",
   "name": "python",
   "nbconvert_exporter": "python",
   "pygments_lexer": "ipython3",
   "version": "3.6.9"
  }
 },
 "nbformat": 4,
 "nbformat_minor": 4
}
